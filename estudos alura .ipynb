{
  "nbformat": 4,
  "nbformat_minor": 0,
  "metadata": {
    "colab": {
      "provenance": [],
      "toc_visible": true,
      "authorship_tag": "ABX9TyNq5a73S1utUlxTwwQQRkMC",
      "include_colab_link": true
    },
    "kernelspec": {
      "name": "python3",
      "display_name": "Python 3"
    },
    "language_info": {
      "name": "python"
    }
  },
  "cells": [
    {
      "cell_type": "markdown",
      "metadata": {
        "id": "view-in-github",
        "colab_type": "text"
      },
      "source": [
        "<a href=\"https://colab.research.google.com/github/viiihbastos/googlecolabnotebooks/blob/main/estudos%20alura%20.ipynb\" target=\"_parent\"><img src=\"https://colab.research.google.com/assets/colab-badge.svg\" alt=\"Open In Colab\"/></a>"
      ]
    },
    {
      "cell_type": "code",
      "metadata": {
        "colab": {
          "base_uri": "https://localhost:8080/",
          "height": 129
        },
        "id": "xw2Tv2BX_Qt5",
        "outputId": "f14dbfe8-3c7d-4955-eac2-4b0d8c8fa405"
      },
      "source": [
        "import pandas as pd\n",
        "import numpy as py\n",
        "\n",
        "url_dados = 'https://github.com/alura-cursos/imersaodados3/blob/main/dados/dados_experimentos.zip?raw=true'\n",
        "\n",
        "dados = pd.read_csv(url_dados, compression ='zip')\n",
        "\n",
        "dados\n",
        "\n",
        "dados['tratamento']\n"
      ],
      "execution_count": null,
      "outputs": [
        {
          "output_type": "error",
          "ename": "SyntaxError",
          "evalue": "ignored",
          "traceback": [
            "\u001b[0;36m  File \u001b[0;32m\"<ipython-input-6-db28c463fc25>\"\u001b[0;36m, line \u001b[0;32m11\u001b[0m\n\u001b[0;31m    dados.['tratamento'].value_counts()\u001b[0m\n\u001b[0m          ^\u001b[0m\n\u001b[0;31mSyntaxError\u001b[0m\u001b[0;31m:\u001b[0m invalid syntax\n"
          ]
        }
      ]
    },
    {
      "cell_type": "code",
      "metadata": {
        "id": "IvOlVeDi_0OR",
        "colab": {
          "base_uri": "https://localhost:8080/",
          "height": 129
        },
        "outputId": "3fd77151-ac93-4c36-c86c-5e0f42b54826"
      },
      "source": [
        "dados['tempo'].unique()\n"
      ],
      "execution_count": null,
      "outputs": [
        {
          "output_type": "error",
          "ename": "SyntaxError",
          "evalue": "ignored",
          "traceback": [
            "\u001b[0;36m  File \u001b[0;32m\"<ipython-input-7-f194025486cd>\"\u001b[0;36m, line \u001b[0;32m2\u001b[0m\n\u001b[0;31m    dados.['tratamento'].value_counts()\u001b[0m\n\u001b[0m          ^\u001b[0m\n\u001b[0;31mSyntaxError\u001b[0m\u001b[0;31m:\u001b[0m invalid syntax\n"
          ]
        }
      ]
    },
    {
      "cell_type": "code",
      "metadata": {
        "colab": {
          "base_uri": "https://localhost:8080/"
        },
        "id": "ndqf8VxLExlr",
        "outputId": "7fb02ffa-a252-4bb9-81c4-64abc1f16e47"
      },
      "source": [
        "dados['dose'].unique\n",
        "\n"
      ],
      "execution_count": null,
      "outputs": [
        {
          "output_type": "execute_result",
          "data": {
            "text/plain": [
              "<bound method Series.unique of 0        D1\n",
              "1        D1\n",
              "2        D1\n",
              "3        D1\n",
              "4        D2\n",
              "         ..\n",
              "23809    D2\n",
              "23810    D2\n",
              "23811    D2\n",
              "23812    D1\n",
              "23813    D1\n",
              "Name: dose, Length: 23814, dtype: object>"
            ]
          },
          "metadata": {
            "tags": []
          },
          "execution_count": 12
        }
      ]
    },
    {
      "cell_type": "code",
      "metadata": {
        "colab": {
          "base_uri": "https://localhost:8080/"
        },
        "id": "wMhoHBnZE_Oq",
        "outputId": "edfa0c08-425d-4d1e-be34-e0050259edb4"
      },
      "source": [
        "dados['droga'].unique\n"
      ],
      "execution_count": null,
      "outputs": [
        {
          "output_type": "execute_result",
          "data": {
            "text/plain": [
              "<bound method Series.unique of 0        b68db1d53\n",
              "1        df89a8e5a\n",
              "2        18bb41b2c\n",
              "3        8c7f86626\n",
              "4        7cbed3131\n",
              "           ...    \n",
              "23809    df1d0a5a1\n",
              "23810    ecf3b6b74\n",
              "23811    cacb2b860\n",
              "23812    8b87a7a83\n",
              "23813    972f41291\n",
              "Name: droga, Length: 23814, dtype: object>"
            ]
          },
          "metadata": {
            "tags": []
          },
          "execution_count": 13
        }
      ]
    },
    {
      "cell_type": "code",
      "metadata": {
        "colab": {
          "base_uri": "https://localhost:8080/"
        },
        "id": "98d2D2ZQFFpH",
        "outputId": "e3ddce67-950b-4e10-f84c-e0375dce9e10"
      },
      "source": [
        "dados.head\n",
        "\n"
      ],
      "execution_count": null,
      "outputs": [
        {
          "output_type": "execute_result",
          "data": {
            "text/plain": [
              "<bound method NDFrame.head of                  id    tratamento  tempo dose  ...    c-96    c-97    c-98    c-99\n",
              "0      id_000644bb2     com_droga     24   D1  ... -0.3981  0.2139  0.3801  0.4176\n",
              "1      id_000779bfc     com_droga     72   D1  ...  0.1522  0.1241  0.6077  0.7371\n",
              "2      id_000a6266a     com_droga     48   D1  ... -0.6417 -0.2187 -1.4080  0.6931\n",
              "3      id_0015fd391     com_droga     48   D1  ... -1.6210 -0.8784 -0.3876 -0.8154\n",
              "4      id_001626bd3     com_droga     72   D2  ...  0.1094  0.2885 -0.3786  0.7125\n",
              "...             ...           ...    ...  ...  ...     ...     ...     ...     ...\n",
              "23809  id_fffb1ceed     com_droga     24   D2  ...  0.0631  0.9171  0.5258  0.4680\n",
              "23810  id_fffb70c0c     com_droga     24   D2  ... -0.2084 -0.1224 -0.2715  0.3689\n",
              "23811  id_fffc1c3f4  com_controle     48   D2  ...  0.2256  0.7592  0.6656  0.3808\n",
              "23812  id_fffcb9e7c     com_droga     24   D1  ...  0.1732  0.7015 -0.6290  0.0740\n",
              "23813  id_ffffdd77b     com_droga     72   D1  ... -3.5770 -0.4775 -2.1500 -4.2520\n",
              "\n",
              "[23814 rows x 877 columns]>"
            ]
          },
          "metadata": {
            "tags": []
          },
          "execution_count": 17
        }
      ]
    },
    {
      "cell_type": "code",
      "metadata": {
        "id": "rjHp0HVfI3r1"
      },
      "source": [],
      "execution_count": null,
      "outputs": []
    }
  ]
}