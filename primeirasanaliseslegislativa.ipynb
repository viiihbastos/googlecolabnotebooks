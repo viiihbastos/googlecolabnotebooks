{
  "nbformat": 4,
  "nbformat_minor": 0,
  "metadata": {
    "colab": {
      "provenance": [],
      "authorship_tag": "ABX9TyMLwxeBMg2xdFn9zzVoTnH3",
      "include_colab_link": true
    },
    "kernelspec": {
      "name": "python3",
      "display_name": "Python 3"
    },
    "language_info": {
      "name": "python"
    }
  },
  "cells": [
    {
      "cell_type": "markdown",
      "metadata": {
        "id": "view-in-github",
        "colab_type": "text"
      },
      "source": [
        "<a href=\"https://colab.research.google.com/github/viiihbastos/googlecolabnotebooks/blob/main/primeirasanaliseslegislativa.ipynb\" target=\"_parent\"><img src=\"https://colab.research.google.com/assets/colab-badge.svg\" alt=\"Open In Colab\"/></a>"
      ]
    },
    {
      "cell_type": "code",
      "metadata": {
        "id": "hxk7-0S6CxK2"
      },
      "source": [
        "import pandas as pd\n"
      ],
      "execution_count": null,
      "outputs": []
    },
    {
      "cell_type": "code",
      "metadata": {
        "colab": {
          "base_uri": "https://localhost:8080/",
          "height": 289
        },
        "id": "04B-_uWLF_9H",
        "outputId": "4663dd45-cd21-4661-f542-832f0ac38a96"
      },
      "source": [
        "base = pd.read_excel(\"/content/202109271257524056.xlsx\")\n",
        "base.head()\n"
      ],
      "execution_count": null,
      "outputs": [
        {
          "output_type": "execute_result",
          "data": {
            "text/html": [
              "<div>\n",
              "<style scoped>\n",
              "    .dataframe tbody tr th:only-of-type {\n",
              "        vertical-align: middle;\n",
              "    }\n",
              "\n",
              "    .dataframe tbody tr th {\n",
              "        vertical-align: top;\n",
              "    }\n",
              "\n",
              "    .dataframe thead th {\n",
              "        text-align: right;\n",
              "    }\n",
              "</style>\n",
              "<table border=\"1\" class=\"dataframe\">\n",
              "  <thead>\n",
              "    <tr style=\"text-align: right;\">\n",
              "      <th></th>\n",
              "      <th>Processo</th>\n",
              "      <th>Ano</th>\n",
              "      <th>Tipo</th>\n",
              "      <th>Nº</th>\n",
              "      <th>Ano</th>\n",
              "      <th>Situação</th>\n",
              "      <th>Ementa</th>\n",
              "      <th>Protocolo</th>\n",
              "      <th>Data</th>\n",
              "    </tr>\n",
              "  </thead>\n",
              "  <tbody>\n",
              "    <tr>\n",
              "      <th>0</th>\n",
              "      <td>7338</td>\n",
              "      <td>2021</td>\n",
              "      <td>Requerimento de Inclusão</td>\n",
              "      <td>60</td>\n",
              "      <td>2021</td>\n",
              "      <td>Arquivado</td>\n",
              "      <td>REQUERIMENTO visando incluir na presente Ordem...</td>\n",
              "      <td>6639</td>\n",
              "      <td>23/09/2021</td>\n",
              "    </tr>\n",
              "    <tr>\n",
              "      <th>1</th>\n",
              "      <td>7377</td>\n",
              "      <td>2021</td>\n",
              "      <td>Requerimento de Inclusão</td>\n",
              "      <td>59</td>\n",
              "      <td>2021</td>\n",
              "      <td>Arquivado</td>\n",
              "      <td>REQUERIMENTO visando incluir na presente Ordem...</td>\n",
              "      <td>6638</td>\n",
              "      <td>23/09/2021</td>\n",
              "    </tr>\n",
              "    <tr>\n",
              "      <th>2</th>\n",
              "      <td>5782</td>\n",
              "      <td>2021</td>\n",
              "      <td>Requerimento de Inclusão</td>\n",
              "      <td>58</td>\n",
              "      <td>2021</td>\n",
              "      <td>Arquivado</td>\n",
              "      <td>REQUERIMENTO visando incluir na presente Ordem...</td>\n",
              "      <td>6637</td>\n",
              "      <td>23/09/2021</td>\n",
              "    </tr>\n",
              "    <tr>\n",
              "      <th>3</th>\n",
              "      <td>7429</td>\n",
              "      <td>2021</td>\n",
              "      <td>Requerimento de Informações (art. 58)</td>\n",
              "      <td>499</td>\n",
              "      <td>2021</td>\n",
              "      <td>Tramitando</td>\n",
              "      <td>REQUERIMENTO solicitando à Prefeitura que enca...</td>\n",
              "      <td>6633</td>\n",
              "      <td>23/09/2021</td>\n",
              "    </tr>\n",
              "    <tr>\n",
              "      <th>4</th>\n",
              "      <td>7428</td>\n",
              "      <td>2021</td>\n",
              "      <td>Moção</td>\n",
              "      <td>43</td>\n",
              "      <td>2021</td>\n",
              "      <td>Tramitando</td>\n",
              "      <td>MOÇÃO\\tDE\\tAPOIO\\tAO\\tDIA\\tNACIONAL DO TRÂNSIT...</td>\n",
              "      <td>6632</td>\n",
              "      <td>23/09/2021</td>\n",
              "    </tr>\n",
              "  </tbody>\n",
              "</table>\n",
              "</div>"
            ],
            "text/plain": [
              "   Processo   Ano  ... Protocolo        Data\n",
              "0      7338  2021  ...      6639  23/09/2021\n",
              "1      7377  2021  ...      6638  23/09/2021\n",
              "2      5782  2021  ...      6637  23/09/2021\n",
              "3      7429  2021  ...      6633  23/09/2021\n",
              "4      7428  2021  ...      6632  23/09/2021\n",
              "\n",
              "[5 rows x 9 columns]"
            ]
          },
          "metadata": {},
          "execution_count": 2
        }
      ]
    },
    {
      "cell_type": "code",
      "metadata": {
        "colab": {
          "base_uri": "https://localhost:8080/"
        },
        "id": "M-hsiSrMGh8M",
        "outputId": "dd446666-e7b1-4474-8765-bc137911d624"
      },
      "source": [
        "base.shape"
      ],
      "execution_count": null,
      "outputs": [
        {
          "output_type": "execute_result",
          "data": {
            "text/plain": [
              "(963, 9)"
            ]
          },
          "metadata": {},
          "execution_count": 3
        }
      ]
    },
    {
      "cell_type": "code",
      "metadata": {
        "colab": {
          "base_uri": "https://localhost:8080/"
        },
        "id": "j1KjeOhdOcSD",
        "outputId": "a585a588-f070-4c7a-b5e1-46edcb21150e"
      },
      "source": [
        "base.columns"
      ],
      "execution_count": null,
      "outputs": [
        {
          "output_type": "execute_result",
          "data": {
            "text/plain": [
              "Index(['Processo', 'Ano', 'Tipo', 'Nº', 'Ano ', 'Situação', 'Ementa',\n",
              "       'Protocolo', 'Data'],\n",
              "      dtype='object')"
            ]
          },
          "metadata": {},
          "execution_count": 4
        }
      ]
    },
    {
      "cell_type": "code",
      "metadata": {
        "colab": {
          "base_uri": "https://localhost:8080/"
        },
        "id": "NbiH_ZVGOhB4",
        "outputId": "96308e41-0520-4a07-fd19-77b0d8cdea54"
      },
      "source": [
        "base['Tipo'].unique()\n"
      ],
      "execution_count": null,
      "outputs": [
        {
          "output_type": "execute_result",
          "data": {
            "text/plain": [
              "array(['Requerimento de Inclusão',\n",
              "       'Requerimento de Informações (art. 58)', 'Moção',\n",
              "       'Requerimento de Votos - Aplauso', 'Indicação',\n",
              "       'Requerimento de Votos - Pesar', 'Requerimento',\n",
              "       'Requerimento de Votos - Congratulações',\n",
              "       'Requerimento - Abaixo Assinado', 'Emenda',\n",
              "       'Projeto de Lei Ordinária', 'Requerimento de Audiência Pública',\n",
              "       'Projeto de Resolução', 'Requerimento de Sessão Solene',\n",
              "       'Proposta de Emenda a Lei Orgânica', 'Requerimento de CPI',\n",
              "       'Projeto de Decreto Legislativo'], dtype=object)"
            ]
          },
          "metadata": {},
          "execution_count": 5
        }
      ]
    },
    {
      "cell_type": "code",
      "metadata": {
        "colab": {
          "base_uri": "https://localhost:8080/"
        },
        "id": "9zCjhleWPcjS",
        "outputId": "15a3e59a-7830-4d87-aa97-6d65e12f37ab"
      },
      "source": [
        "\n",
        "base['Tipo'].value_counts()\n"
      ],
      "execution_count": null,
      "outputs": [
        {
          "output_type": "execute_result",
          "data": {
            "text/plain": [
              "Indicação                                 412\n",
              "Requerimento de Informações (art. 58)     177\n",
              "Requerimento                              110\n",
              "Requerimento de Inclusão                   68\n",
              "Emenda                                     47\n",
              "Requerimento de Votos - Pesar              31\n",
              "Requerimento de Votos - Congratulações     28\n",
              "Moção                                      26\n",
              "Projeto de Lei Ordinária                   17\n",
              "Requerimento - Abaixo Assinado             14\n",
              "Requerimento de Votos - Aplauso            13\n",
              "Requerimento de Sessão Solene               7\n",
              "Projeto de Resolução                        6\n",
              "Proposta de Emenda a Lei Orgânica           3\n",
              "Requerimento de Audiência Pública           2\n",
              "Projeto de Decreto Legislativo              1\n",
              "Requerimento de CPI                         1\n",
              "Name: Tipo, dtype: int64"
            ]
          },
          "metadata": {},
          "execution_count": 6
        }
      ]
    },
    {
      "cell_type": "code",
      "metadata": {
        "colab": {
          "base_uri": "https://localhost:8080/"
        },
        "id": "vQy2Cb4TPog1",
        "outputId": "733cdc07-1725-457d-a9d9-711b20ed725c"
      },
      "source": [
        "base['Tipo'].value_counts(\"Projeto de Lei Ordinária\")"
      ],
      "execution_count": null,
      "outputs": [
        {
          "output_type": "execute_result",
          "data": {
            "text/plain": [
              "Indicação                                 0.427830\n",
              "Requerimento de Informações (art. 58)     0.183801\n",
              "Requerimento                              0.114226\n",
              "Requerimento de Inclusão                  0.070613\n",
              "Emenda                                    0.048806\n",
              "Requerimento de Votos - Pesar             0.032191\n",
              "Requerimento de Votos - Congratulações    0.029076\n",
              "Moção                                     0.026999\n",
              "Projeto de Lei Ordinária                  0.017653\n",
              "Requerimento - Abaixo Assinado            0.014538\n",
              "Requerimento de Votos - Aplauso           0.013499\n",
              "Requerimento de Sessão Solene             0.007269\n",
              "Projeto de Resolução                      0.006231\n",
              "Proposta de Emenda a Lei Orgânica         0.003115\n",
              "Requerimento de Audiência Pública         0.002077\n",
              "Projeto de Decreto Legislativo            0.001038\n",
              "Requerimento de CPI                       0.001038\n",
              "Name: Tipo, dtype: float64"
            ]
          },
          "metadata": {},
          "execution_count": 8
        }
      ]
    },
    {
      "cell_type": "code",
      "metadata": {
        "colab": {
          "base_uri": "https://localhost:8080/",
          "height": 589
        },
        "id": "y6Uv6NfLwIE4",
        "outputId": "211cbd4a-64fa-4bf7-c04f-969c67cd4519"
      },
      "source": [
        "\n",
        "base.sort_values(by=[\"Tipo\"])"
      ],
      "execution_count": null,
      "outputs": [
        {
          "output_type": "execute_result",
          "data": {
            "text/html": [
              "<div>\n",
              "<style scoped>\n",
              "    .dataframe tbody tr th:only-of-type {\n",
              "        vertical-align: middle;\n",
              "    }\n",
              "\n",
              "    .dataframe tbody tr th {\n",
              "        vertical-align: top;\n",
              "    }\n",
              "\n",
              "    .dataframe thead th {\n",
              "        text-align: right;\n",
              "    }\n",
              "</style>\n",
              "<table border=\"1\" class=\"dataframe\">\n",
              "  <thead>\n",
              "    <tr style=\"text-align: right;\">\n",
              "      <th></th>\n",
              "      <th>Processo</th>\n",
              "      <th>Ano</th>\n",
              "      <th>Tipo</th>\n",
              "      <th>Nº</th>\n",
              "      <th>Ano</th>\n",
              "      <th>Situação</th>\n",
              "      <th>Ementa</th>\n",
              "      <th>Protocolo</th>\n",
              "      <th>Data</th>\n",
              "    </tr>\n",
              "  </thead>\n",
              "  <tbody>\n",
              "    <tr>\n",
              "      <th>708</th>\n",
              "      <td>5249</td>\n",
              "      <td>2019</td>\n",
              "      <td>Emenda</td>\n",
              "      <td>145</td>\n",
              "      <td>2019</td>\n",
              "      <td>Arquivado</td>\n",
              "      <td>Emenda Modificativa ao Projeto de Lei 46/2019,...</td>\n",
              "      <td>9043</td>\n",
              "      <td>28/11/2019</td>\n",
              "    </tr>\n",
              "    <tr>\n",
              "      <th>602</th>\n",
              "      <td>1548</td>\n",
              "      <td>2020</td>\n",
              "      <td>Emenda</td>\n",
              "      <td>1</td>\n",
              "      <td>2020</td>\n",
              "      <td>Arquivado</td>\n",
              "      <td>EMENDA MODIFICATIVA ao PROJETO DE LEI CM Nº 14...</td>\n",
              "      <td>1847</td>\n",
              "      <td>30/04/2020</td>\n",
              "    </tr>\n",
              "    <tr>\n",
              "      <th>601</th>\n",
              "      <td>1548</td>\n",
              "      <td>2020</td>\n",
              "      <td>Emenda</td>\n",
              "      <td>2</td>\n",
              "      <td>2020</td>\n",
              "      <td>Arquivado</td>\n",
              "      <td>EMENDA ADITIVA ao PROJETO DE LEI CM Nº 14/2020...</td>\n",
              "      <td>1848</td>\n",
              "      <td>30/04/2020</td>\n",
              "    </tr>\n",
              "    <tr>\n",
              "      <th>705</th>\n",
              "      <td>5249</td>\n",
              "      <td>2019</td>\n",
              "      <td>Emenda</td>\n",
              "      <td>148</td>\n",
              "      <td>2019</td>\n",
              "      <td>Arquivado</td>\n",
              "      <td>Emenda Modificativa ao Projeto de Lei 46/2019,...</td>\n",
              "      <td>9046</td>\n",
              "      <td>28/11/2019</td>\n",
              "    </tr>\n",
              "    <tr>\n",
              "      <th>706</th>\n",
              "      <td>5249</td>\n",
              "      <td>2019</td>\n",
              "      <td>Emenda</td>\n",
              "      <td>147</td>\n",
              "      <td>2019</td>\n",
              "      <td>Arquivado</td>\n",
              "      <td>Emenda Modificativa ao Projeto de Lei 46/2019,...</td>\n",
              "      <td>9045</td>\n",
              "      <td>28/11/2019</td>\n",
              "    </tr>\n",
              "    <tr>\n",
              "      <th>...</th>\n",
              "      <td>...</td>\n",
              "      <td>...</td>\n",
              "      <td>...</td>\n",
              "      <td>...</td>\n",
              "      <td>...</td>\n",
              "      <td>...</td>\n",
              "      <td>...</td>\n",
              "      <td>...</td>\n",
              "      <td>...</td>\n",
              "    </tr>\n",
              "    <tr>\n",
              "      <th>266</th>\n",
              "      <td>1515</td>\n",
              "      <td>2021</td>\n",
              "      <td>Requerimento de Votos - Pesar</td>\n",
              "      <td>17</td>\n",
              "      <td>2021</td>\n",
              "      <td>Arquivado</td>\n",
              "      <td>VOTO DE PESAR pelo falecimento da Vereadora Ma...</td>\n",
              "      <td>1605</td>\n",
              "      <td>16/03/2021</td>\n",
              "    </tr>\n",
              "    <tr>\n",
              "      <th>161</th>\n",
              "      <td>3163</td>\n",
              "      <td>2021</td>\n",
              "      <td>Requerimento de Votos - Pesar</td>\n",
              "      <td>54</td>\n",
              "      <td>2021</td>\n",
              "      <td>Arquivado</td>\n",
              "      <td>REQUERIMENTO visando inserir em Ata dos trabal...</td>\n",
              "      <td>3375</td>\n",
              "      <td>18/05/2021</td>\n",
              "    </tr>\n",
              "    <tr>\n",
              "      <th>147</th>\n",
              "      <td>3532</td>\n",
              "      <td>2021</td>\n",
              "      <td>Requerimento de Votos - Pesar</td>\n",
              "      <td>59</td>\n",
              "      <td>2021</td>\n",
              "      <td>Arquivado</td>\n",
              "      <td>REQUERIMENTOvisando inserir em ata dos   traba...</td>\n",
              "      <td>3752</td>\n",
              "      <td>27/05/2021</td>\n",
              "    </tr>\n",
              "    <tr>\n",
              "      <th>80</th>\n",
              "      <td>5851</td>\n",
              "      <td>2021</td>\n",
              "      <td>Requerimento de Votos - Pesar</td>\n",
              "      <td>69</td>\n",
              "      <td>2021</td>\n",
              "      <td>Arquivado</td>\n",
              "      <td>REQUERIMENTO visando inserir em Ata dos trabal...</td>\n",
              "      <td>4982</td>\n",
              "      <td>03/08/2021</td>\n",
              "    </tr>\n",
              "    <tr>\n",
              "      <th>831</th>\n",
              "      <td>4504</td>\n",
              "      <td>2019</td>\n",
              "      <td>Requerimento de Votos - Pesar</td>\n",
              "      <td>20</td>\n",
              "      <td>2019</td>\n",
              "      <td>Arquivado</td>\n",
              "      <td>REQUERIMENTO visando inserir em Ata dos trabal...</td>\n",
              "      <td>6429</td>\n",
              "      <td>03/09/2019</td>\n",
              "    </tr>\n",
              "  </tbody>\n",
              "</table>\n",
              "<p>963 rows × 9 columns</p>\n",
              "</div>"
            ],
            "text/plain": [
              "     Processo   Ano  ... Protocolo        Data\n",
              "708      5249  2019  ...      9043  28/11/2019\n",
              "602      1548  2020  ...      1847  30/04/2020\n",
              "601      1548  2020  ...      1848  30/04/2020\n",
              "705      5249  2019  ...      9046  28/11/2019\n",
              "706      5249  2019  ...      9045  28/11/2019\n",
              "..        ...   ...  ...       ...         ...\n",
              "266      1515  2021  ...      1605  16/03/2021\n",
              "161      3163  2021  ...      3375  18/05/2021\n",
              "147      3532  2021  ...      3752  27/05/2021\n",
              "80       5851  2021  ...      4982  03/08/2021\n",
              "831      4504  2019  ...      6429  03/09/2019\n",
              "\n",
              "[963 rows x 9 columns]"
            ]
          },
          "metadata": {},
          "execution_count": 23
        }
      ]
    },
    {
      "cell_type": "code",
      "metadata": {
        "id": "87aj7_qpwMWH"
      },
      "source": [],
      "execution_count": null,
      "outputs": []
    }
  ]
}