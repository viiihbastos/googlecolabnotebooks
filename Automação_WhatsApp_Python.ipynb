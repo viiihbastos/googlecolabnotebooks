{
  "nbformat": 4,
  "nbformat_minor": 0,
  "metadata": {
    "kernelspec": {
      "display_name": "Python 3",
      "language": "python",
      "name": "python3"
    },
    "language_info": {
      "codemirror_mode": {
        "name": "ipython",
        "version": 3
      },
      "file_extension": ".py",
      "mimetype": "text/x-python",
      "name": "python",
      "nbconvert_exporter": "python",
      "pygments_lexer": "ipython3",
      "version": "3.8.5"
    },
    "colab": {
      "provenance": [],
      "toc_visible": true,
      "include_colab_link": true
    }
  },
  "cells": [
    {
      "cell_type": "markdown",
      "metadata": {
        "id": "view-in-github",
        "colab_type": "text"
      },
      "source": [
        "<a href=\"https://colab.research.google.com/github/viiihbastos/googlecolabnotebooks/blob/main/Automa%C3%A7%C3%A3o_WhatsApp_Python.ipynb\" target=\"_parent\"><img src=\"https://colab.research.google.com/assets/colab-badge.svg\" alt=\"Open In Colab\"/></a>"
      ]
    },
    {
      "cell_type": "markdown",
      "metadata": {
        "id": "OwTh8NVQfvet"
      },
      "source": [
        "# Objetivo: Enviar mensagem para várias pessoas ou grupos automaticamente"
      ]
    },
    {
      "cell_type": "markdown",
      "metadata": {
        "id": "HZ15DA-ifve5"
      },
      "source": [
        "### Cuidados!\n",
        "\n",
        "1. Whatsapp não gosta de nenhum tipo de automação\n",
        "2. Isso pode dar merda, já to avisando\n",
        "3. Isso não é o uso da API oficial do Whatsapp, o próprio whatsapp tem uma API oficial. Se o seu objetivo é fazer envio em massa ou criar aqueles robozinhos que respondem automaticamente no whatsapp, então use a API oficial\n",
        "4. Meu objetivo é 100% educacional"
      ]
    },
    {
      "cell_type": "markdown",
      "metadata": {
        "id": "ohJv0pu4fve7"
      },
      "source": [
        "### Dito isso, bora automatizar o envio de mensagens no Whatsapp\n",
        "\n",
        "- Vamos usar o Selenium (vídeo da configuração na descrição)\n",
        "- Temos 1 ferramenta muito boa alternativas:\n",
        "    - Usar o wa.me (mais fácil, mais seguro, mas mais demorado)"
      ]
    },
    {
      "cell_type": "code",
      "metadata": {
        "id": "wiSnurW2fve9",
        "outputId": "701ac21a-ed77-439b-a4d3-82ab5e2c091b"
      },
      "source": [
        "import pandas as pd\n",
        "\n",
        "contatos_df = pd.read_excel(\"Enviar.xlsx\")\n",
        "display(contatos_df)"
      ],
      "execution_count": null,
      "outputs": [
        {
          "output_type": "display_data",
          "data": {
            "text/html": [
              "<div>\n",
              "<style scoped>\n",
              "    .dataframe tbody tr th:only-of-type {\n",
              "        vertical-align: middle;\n",
              "    }\n",
              "\n",
              "    .dataframe tbody tr th {\n",
              "        vertical-align: top;\n",
              "    }\n",
              "\n",
              "    .dataframe thead th {\n",
              "        text-align: right;\n",
              "    }\n",
              "</style>\n",
              "<table border=\"1\" class=\"dataframe\">\n",
              "  <thead>\n",
              "    <tr style=\"text-align: right;\">\n",
              "      <th></th>\n",
              "      <th>Pessoa</th>\n",
              "      <th>Número</th>\n",
              "      <th>Mensagem</th>\n",
              "    </tr>\n",
              "  </thead>\n",
              "  <tbody>\n",
              "    <tr>\n",
              "      <th>0</th>\n",
              "      <td>Diego</td>\n",
              "      <td>5521972657404</td>\n",
              "      <td>Coe, ta doidao?</td>\n",
              "    </tr>\n",
              "    <tr>\n",
              "      <th>1</th>\n",
              "      <td>Alon</td>\n",
              "      <td>5521971710517</td>\n",
              "      <td>E aí, tudo bem?</td>\n",
              "    </tr>\n",
              "    <tr>\n",
              "      <th>2</th>\n",
              "      <td>Julia</td>\n",
              "      <td>5521982360669</td>\n",
              "      <td>Oi sumida</td>\n",
              "    </tr>\n",
              "  </tbody>\n",
              "</table>\n",
              "</div>"
            ],
            "text/plain": [
              "  Pessoa         Número         Mensagem\n",
              "0  Diego  5521972657404  Coe, ta doidao?\n",
              "1   Alon  5521971710517  E aí, tudo bem?\n",
              "2  Julia  5521982360669        Oi sumida"
            ]
          },
          "metadata": {
            "tags": []
          }
        }
      ]
    },
    {
      "cell_type": "code",
      "metadata": {
        "id": "oZu5rj3-fvfC"
      },
      "source": [
        "from selenium import webdriver\n",
        "from selenium.webdriver.common.keys import Keys\n",
        "import time\n",
        "import urllib\n",
        "\n",
        "navegador = webdriver.Chrome()\n",
        "navegador.get(\"https://web.whatsapp.com/\")\n",
        "\n",
        "while len(navegador.find_elements_by_id(\"side\")) < 1:\n",
        "    time.sleep(1)\n",
        "\n",
        "# já estamos com o login feito no whatsapp web\n",
        "for i, mensagem in enumerate(contatos_df['Mensagem']):\n",
        "    pessoa = contatos_df.loc[i, \"Pessoa\"]\n",
        "    numero = contatos_df.loc[i, \"Número\"]\n",
        "    texto = urllib.parse.quote(f\"Oi {pessoa}! {mensagem}\")\n",
        "    link = f\"https://web.whatsapp.com/send?phone={numero}&text={texto}\"\n",
        "    navegador.get(link)\n",
        "    while len(navegador.find_elements_by_id(\"side\")) < 1:\n",
        "        time.sleep(1)\n",
        "    navegador.find_element_by_xpath('//*[@id=\"main\"]/footer/div[1]/div[2]/div/div[2]').send_keys(Keys.ENTER)\n",
        "    time.sleep(10)\n",
        "        \n",
        "    "
      ],
      "execution_count": null,
      "outputs": []
    },
    {
      "cell_type": "code",
      "metadata": {
        "id": "ey3xfgr-fvfE"
      },
      "source": [],
      "execution_count": null,
      "outputs": []
    }
  ]
}