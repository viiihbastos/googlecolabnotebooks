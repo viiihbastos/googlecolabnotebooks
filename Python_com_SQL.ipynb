{
  "nbformat": 4,
  "nbformat_minor": 0,
  "metadata": {
    "colab": {
      "provenance": [],
      "include_colab_link": true
    },
    "kernelspec": {
      "name": "python3",
      "display_name": "Python 3"
    },
    "language_info": {
      "name": "python"
    }
  },
  "cells": [
    {
      "cell_type": "markdown",
      "metadata": {
        "id": "view-in-github",
        "colab_type": "text"
      },
      "source": [
        "<a href=\"https://colab.research.google.com/github/viiihbastos/googlecolabnotebooks/blob/main/Python_com_SQL.ipynb\" target=\"_parent\"><img src=\"https://colab.research.google.com/assets/colab-badge.svg\" alt=\"Open In Colab\"/></a>"
      ]
    },
    {
      "cell_type": "code",
      "source": [
        "Colinha para Iniciantes em SQL\n",
        "\n",
        "Comandos Comuns:\n",
        "\n",
        "1. SELECT - Seleciona os dados do banco de dados\n",
        "2. AS - Renomear uma coluna ou tabela\n",
        "3. FROM - Especifica a tabela da qual estamos puxando\n",
        "4. WHERE - Filtrar a consulta para corresponder a uma condição\n",
        "5. JOIN - Combinar 2 linhas ou mais tabelas\n",
        "6. AND - Combinar condições em uma consulta 'E'\n",
        "7. OR - Condição em uma consulta 'OU'\n",
        "8. LIKE - Procurar padrões em uma coluna\n",
        "9. IN - Especifique vários valores ao usar WHERE\n",
        "10. IS NULL - Retorna apenas linhas com um valor nulo\n",
        "11. LIMIT - Retornar apenas algumas das linhas retornadas\n",
        "12. CASE - Valor de retorno em uma condição especificada\n",
        "\n",
        "Cláusula JOIN:\n",
        "\n",
        "1. INNER JOIN\n",
        "2. LEFT JOIN\n",
        "3. RIGHT JOIN\n",
        "4. FULL OUTER JOIN\n",
        "\n",
        "Manipulação de Tabelas:\n",
        "\n",
        "1. CREATE - Criar TABLE, DATABASE, INDEX ou VIEW\n",
        "2. DROP - Excluir TABLE, DATABASE, INDEX ou VIEW\n",
        "3. UPDATE - Atualizar dados na tabela\n",
        "4. DELETE - Excluir linhas de uma tabela\n",
        "5. ALTER TABLE - Adicionar/Remover colunas da tabela\n",
        "\n",
        "Funções de Agregação:\n",
        "\n",
        "1. GROUP BY - Agrupar linhas que têm os mesmos valores\n",
        "2. ORDER BY - Definir a ordem do resultado\n",
        "3. HAVING - Igual a WHERE, mas usado para funções de agregação\n",
        "4. SUM - Retorna soma da coluna\n",
        "5. AVG - Retorna média da coluna\n",
        "6. MIN - Retorna o valor mínimo da coluna\n",
        "7. MAX - Retorna o valor máximo da coluna\n",
        "8. COUNT - Contar o número de linhas\n",
        "\n",
        "Exemplos de Comandos:\n",
        "\n",
        "1. Criar base de dados:\n",
        "   CREATE DATABASE MinhaBase;\n",
        "\n",
        "2. Selecione linhas da tabela com filtro:\n",
        "   SELECT * FROM Tabela WHERE Coluna1 > 100;\n",
        "\n",
        "3. Deletar uma tabela:\n",
        "   DROP TABLE Tabela;\n",
        "\n",
        "4. Selecione as primeiras 10 linhas:\n",
        "   SELECT * FROM Tabela LIMIT 10;\n",
        "\n",
        "5. Atualizar dados na tabela:\n",
        "   UPDATE Tabela SET Coluna1 = 100 WHERE Coluna2 = \"AlgumValor\";\n",
        "\n",
        "6. Consulta com LEFT JOIN:\n",
        "   SELECT * FROM Tabela1 AS TB1 LEFT JOIN Tabela2 AS TB2 ON TB1.Coluna1 = TB2.Coluna1;\n",
        "   "
      ],
      "metadata": {
        "id": "1DkWw8zpJRtJ"
      },
      "execution_count": null,
      "outputs": []
    },
    {
      "cell_type": "markdown",
      "source": [
        "# **O que é SQL?**\n",
        "1.   SQL significa Linguagem de Consulta Estruturada\n",
        "2.   SQL permite acessar e manipular bancos de dados\n",
        "3. SQL tornou-se um padrão do American National Standards Institute (ANSI) em 1986, e da International Organization for Standardization (ISO) em 1987\n",
        "\n"
      ],
      "metadata": {
        "id": "DOXP6AXRxoD4"
      }
    },
    {
      "cell_type": "markdown",
      "source": [
        "# **O que é o SQLite?**\n",
        "SQLite é um banco de dados SQL baseado em arquivo independente. O SQLite vem junto com o Python e pode ser usado em qualquer um dos seus aplicativos Python sem precisar instalar nenhum software adicional.<p>\n",
        "[Documentação](https://docs.python.org/3/library/sqlite3.html)"
      ],
      "metadata": {
        "id": "Bm-J3Uslx3AG"
      }
    },
    {
      "cell_type": "code",
      "source": [
        "# Caso não esteja usando o Colab, instale na sua maquina\n",
        "# pip install sqlite3\n",
        "\n",
        "# Biblioteca\n",
        "import sqlite3"
      ],
      "metadata": {
        "id": "z8Mork47MI0v"
      },
      "execution_count": null,
      "outputs": []
    },
    {
      "cell_type": "code",
      "source": [
        "# Criar um banco de dados\n",
        "Conexao = sqlite3.connect('Banco_Dados')"
      ],
      "metadata": {
        "id": "dizwDqAKMI3H"
      },
      "execution_count": null,
      "outputs": []
    },
    {
      "cell_type": "code",
      "source": [
        "# Apontar para o banco\n",
        "Cursor = Conexao.cursor()"
      ],
      "metadata": {
        "id": "NuHzsz6wMI7B"
      },
      "execution_count": null,
      "outputs": []
    },
    {
      "cell_type": "markdown",
      "source": [
        "# **1. - CREATE TABLE**\n",
        "CREATE TABLE table_name (\n",
        "    column1 datatype,\n",
        "    column2 datatype,\n",
        "    column3 datatype,\n",
        "   ....\n",
        ") <p>\n",
        "Os parâmetros de coluna especificam os nomes das colunas da tabela. <p>\n",
        "O parâmetro datatype especifica o tipo de dados que a coluna pode conter (por exemplo, varchar, integer, date, etc.).\n",
        "\n",
        "\n"
      ],
      "metadata": {
        "id": "MoCpQ06awhS3"
      }
    },
    {
      "cell_type": "code",
      "source": [
        "# Criando uma tabela\n",
        "Cursor.execute(\n",
        "    'CREATE TABLE Minha_Tabela ( Data text, Nome text, Idade real ) '\n",
        ")\n",
        "\n",
        "# FAzer um commit\n",
        "Conexao.commit()"
      ],
      "metadata": {
        "id": "PQwgISNfvGoV"
      },
      "execution_count": null,
      "outputs": []
    },
    {
      "cell_type": "markdown",
      "source": [
        "# **2. - INSERT INTO** <p>\n",
        "A INSERT INTO instrução é usada para inserir novos registros em uma tabela. <p>\n",
        "1. Especifique os nomes das colunas e os valores a serem inseridos:\n",
        "*INSERT INTO table_name (column1, column2, column3, ...)*"
      ],
      "metadata": {
        "id": "0sRe0mKVzDz9"
      }
    },
    {
      "cell_type": "code",
      "source": [
        "# Inserindo valores\n",
        "Cursor.execute(' INSERT INTO Minha_Tabela VALUES ( \"01/01/2021\", \"Odemir\", \"30\" ) ')"
      ],
      "metadata": {
        "colab": {
          "base_uri": "https://localhost:8080/"
        },
        "id": "j62RYEOFPDl6",
        "outputId": "a9885642-6058-4f58-80b5-55ca4c0ef339"
      },
      "execution_count": null,
      "outputs": [
        {
          "output_type": "execute_result",
          "data": {
            "text/plain": [
              "<sqlite3.Cursor at 0x7f30215ef0a0>"
            ]
          },
          "metadata": {},
          "execution_count": 5
        }
      ]
    },
    {
      "cell_type": "code",
      "source": [
        "Cursor.execute(' INSERT INTO Minha_Tabela VALUES ( \"05/01/2021\", \"Lucas\", \"30\" ) ')"
      ],
      "metadata": {
        "colab": {
          "base_uri": "https://localhost:8080/"
        },
        "id": "agYj5g2HPDoc",
        "outputId": "32d60d1d-93c2-44d9-8ad4-ed8ca96bdb65"
      },
      "execution_count": null,
      "outputs": [
        {
          "output_type": "execute_result",
          "data": {
            "text/plain": [
              "<sqlite3.Cursor at 0x7f30215ef0a0>"
            ]
          },
          "metadata": {},
          "execution_count": 6
        }
      ]
    },
    {
      "cell_type": "code",
      "source": [
        "# Importar Numeros aleatorios\n",
        "import random"
      ],
      "metadata": {
        "id": "3He5R0FPPDrA"
      },
      "execution_count": null,
      "outputs": []
    },
    {
      "cell_type": "code",
      "source": [
        "# Loop\n",
        "for Loop in range(10):\n",
        "\n",
        "  # Gernado um numero aleatorio\n",
        "  Numero = random.randint(10, 20)\n",
        "  \n",
        "  # Inserir informação na minha tabela\n",
        "  Cursor.execute( f' INSERT INTO Minha_Tabela VALUES ( \"05/01/2021\", \"Lucas\", {Numero} ) ')"
      ],
      "metadata": {
        "id": "WKfWo4cKPDtj"
      },
      "execution_count": null,
      "outputs": []
    },
    {
      "cell_type": "markdown",
      "source": [
        "# **3. - SELECT TABLE** <p>\n",
        "A SELECT instrução é usada para selecionar dados de um banco de dados. <p>\n",
        "*SELECT * FROM table_name* <p>\n",
        "*SELECT column1, column2, ... FROM table_name*\n"
      ],
      "metadata": {
        "id": "AjzjbKWc1DQF"
      }
    },
    {
      "cell_type": "code",
      "source": [
        "# Query de consulta - Todas as Colunas\n",
        "Consulta = Cursor.execute('SELECT * FROM Minha_Tabela').fetchall()\n",
        "\n",
        "print( Consulta )"
      ],
      "metadata": {
        "id": "FG-iBJWrR2ze",
        "colab": {
          "base_uri": "https://localhost:8080/"
        },
        "outputId": "fc822279-add8-4dd0-c9ad-7d10057f7f34"
      },
      "execution_count": null,
      "outputs": [
        {
          "output_type": "stream",
          "name": "stdout",
          "text": [
            "[('01/01/2021', 'Odemir', 30.0), ('05/01/2021', 'Lucas', 30.0), ('05/01/2021', 'Lucas', 15.0), ('05/01/2021', 'Lucas', 11.0), ('05/01/2021', 'Lucas', 20.0), ('05/01/2021', 'Lucas', 19.0), ('05/01/2021', 'Lucas', 13.0), ('05/01/2021', 'Lucas', 19.0), ('05/01/2021', 'Lucas', 20.0), ('05/01/2021', 'Lucas', 17.0), ('05/01/2021', 'Lucas', 18.0), ('05/01/2021', 'Lucas', 17.0)]\n"
          ]
        }
      ]
    },
    {
      "cell_type": "code",
      "source": [
        "# Query de consulta - Colunas Especificas\n",
        "Consulta = Cursor.execute('SELECT Nome, Idade FROM Minha_Tabela').fetchall()\n",
        "\n",
        "# Loop\n",
        "for Linha in Consulta:\n",
        "  print( Linha )"
      ],
      "metadata": {
        "colab": {
          "base_uri": "https://localhost:8080/"
        },
        "id": "BIenRphvR31x",
        "outputId": "51b797ac-b8cf-481d-fc87-56ba9d2772e9"
      },
      "execution_count": null,
      "outputs": [
        {
          "output_type": "stream",
          "name": "stdout",
          "text": [
            "('Odemir', 30.0)\n",
            "('Lucas', 30.0)\n",
            "('Lucas', 15.0)\n",
            "('Lucas', 11.0)\n",
            "('Lucas', 20.0)\n",
            "('Lucas', 19.0)\n",
            "('Lucas', 13.0)\n",
            "('Lucas', 19.0)\n",
            "('Lucas', 20.0)\n",
            "('Lucas', 17.0)\n",
            "('Lucas', 18.0)\n",
            "('Lucas', 17.0)\n"
          ]
        }
      ]
    },
    {
      "cell_type": "markdown",
      "source": [
        "# **4. - WHERE <p>**\n",
        "A WHERE cláusula é usada para filtrar registros. <p>\n",
        "*SELECT column1 FROM table_name WHERE condition;*\n"
      ],
      "metadata": {
        "id": "gByMcnYF2Sv_"
      }
    },
    {
      "cell_type": "markdown",
      "source": [
        "**Operadores**\n",
        "1. '='\tIgual\n",
        "2. '>'\tMaior\t\n",
        "3. '<'\tMenor\t\n",
        "4. '>='\tMaior ou Igual\t\n",
        "5. '<='\tMenor ou Igual\t\n",
        "6. '<>'\tDiferente\t\n",
        "7. 'BETWEEN'\tEntre\t\n",
        "8. 'LIKE'\tProcurar por padrão\t\n",
        "9. 'IN'\tPara especificar vários valores possíveis para uma coluna"
      ],
      "metadata": {
        "id": "1iBrKpAD3V6Z"
      }
    },
    {
      "cell_type": "code",
      "source": [
        "# Query usando o Igual \"=\"\n",
        "Consulta = Cursor.execute(\n",
        "    '''\n",
        "    SELECT * FROM Minha_Tabela\n",
        "    WHERE Nome = 'Odemir'\n",
        "    '''\n",
        ").fetchall()\n",
        "\n",
        "print( Consulta )"
      ],
      "metadata": {
        "colab": {
          "base_uri": "https://localhost:8080/"
        },
        "id": "5po-uMniTpDP",
        "outputId": "058cc055-332d-4e13-ccb9-2361043bd040"
      },
      "execution_count": null,
      "outputs": [
        {
          "output_type": "stream",
          "name": "stdout",
          "text": [
            "[('01/01/2021', 'Odemir', 30.0)]\n"
          ]
        }
      ]
    },
    {
      "cell_type": "code",
      "source": [
        "# Query usando o Igual \">\"\n",
        "Consulta = Cursor.execute(\n",
        "    '''\n",
        "    SELECT * FROM Minha_Tabela\n",
        "    WHERE Idade > 25\n",
        "    '''\n",
        ").fetchall()\n",
        "\n",
        "print( Consulta )"
      ],
      "metadata": {
        "colab": {
          "base_uri": "https://localhost:8080/"
        },
        "id": "MpkMUC7hTpFn",
        "outputId": "24be1bf1-ce8a-4555-d914-0efc5b5b9b8b"
      },
      "execution_count": null,
      "outputs": [
        {
          "output_type": "stream",
          "name": "stdout",
          "text": [
            "[('01/01/2021', 'Odemir', 30.0), ('05/01/2021', 'Lucas', 30.0)]\n"
          ]
        }
      ]
    },
    {
      "cell_type": "code",
      "source": [
        "# Query usando o Igual \">\"\n",
        "Consulta = Cursor.execute(\n",
        "    '''\n",
        "    SELECT * FROM Minha_Tabela\n",
        "    WHERE Idade < 25\n",
        "    '''\n",
        ").fetchall()\n",
        "\n",
        "print( Consulta )"
      ],
      "metadata": {
        "colab": {
          "base_uri": "https://localhost:8080/"
        },
        "id": "HUUYr8bjTpH9",
        "outputId": "de9d2bb3-52c7-4753-b5e5-243229dac751"
      },
      "execution_count": null,
      "outputs": [
        {
          "output_type": "stream",
          "name": "stdout",
          "text": [
            "[('05/01/2021', 'Lucas', 15.0), ('05/01/2021', 'Lucas', 11.0), ('05/01/2021', 'Lucas', 20.0), ('05/01/2021', 'Lucas', 19.0), ('05/01/2021', 'Lucas', 13.0), ('05/01/2021', 'Lucas', 19.0), ('05/01/2021', 'Lucas', 20.0), ('05/01/2021', 'Lucas', 17.0), ('05/01/2021', 'Lucas', 18.0), ('05/01/2021', 'Lucas', 17.0)]\n"
          ]
        }
      ]
    },
    {
      "cell_type": "code",
      "source": [
        "# Query usando o Igual \">=\"\n",
        "Consulta = Cursor.execute(\n",
        "    '''\n",
        "    SELECT * FROM Minha_Tabela\n",
        "    WHERE Idade <= 15\n",
        "    '''\n",
        ").fetchall()\n",
        "\n",
        "print( Consulta )"
      ],
      "metadata": {
        "colab": {
          "base_uri": "https://localhost:8080/"
        },
        "id": "7rH77uUE7JwM",
        "outputId": "8f43b042-185f-41d1-cb71-4dbd6941caf8"
      },
      "execution_count": null,
      "outputs": [
        {
          "output_type": "stream",
          "name": "stdout",
          "text": [
            "[('05/01/2021', 'Lucas', 15.0), ('05/01/2021', 'Lucas', 11.0), ('05/01/2021', 'Lucas', 13.0)]\n"
          ]
        }
      ]
    },
    {
      "cell_type": "code",
      "source": [
        "# Query usando o Igual \"<>\"\n",
        "Consulta = Cursor.execute(\n",
        "    '''\n",
        "    SELECT * FROM Minha_Tabela\n",
        "    WHERE Nome <> 'Odemir'\n",
        "    '''\n",
        ").fetchall()\n",
        "\n",
        "for Linha in Consulta:\n",
        "  print( Linha )"
      ],
      "metadata": {
        "colab": {
          "base_uri": "https://localhost:8080/"
        },
        "id": "Gelth-cH7J1t",
        "outputId": "97757c4f-d59b-4209-848c-ba78475718f2"
      },
      "execution_count": null,
      "outputs": [
        {
          "output_type": "stream",
          "name": "stdout",
          "text": [
            "('05/01/2021', 'Lucas', 30.0)\n",
            "('05/01/2021', 'Lucas', 15.0)\n",
            "('05/01/2021', 'Lucas', 11.0)\n",
            "('05/01/2021', 'Lucas', 20.0)\n",
            "('05/01/2021', 'Lucas', 19.0)\n",
            "('05/01/2021', 'Lucas', 13.0)\n",
            "('05/01/2021', 'Lucas', 19.0)\n",
            "('05/01/2021', 'Lucas', 20.0)\n",
            "('05/01/2021', 'Lucas', 17.0)\n",
            "('05/01/2021', 'Lucas', 18.0)\n",
            "('05/01/2021', 'Lucas', 17.0)\n"
          ]
        }
      ]
    },
    {
      "cell_type": "markdown",
      "source": [
        "# **5. - BETWEEN**"
      ],
      "metadata": {
        "id": "-3ZIQSjp44Tz"
      }
    },
    {
      "cell_type": "code",
      "source": [
        "# Query usando o BetWeen\n",
        "Consulta = Cursor.execute(\n",
        "    '''\n",
        "    SELECT * FROM Minha_Tabela\n",
        "    WHERE idade BETWEEN 15 AND 20\n",
        "    '''\n",
        ").fetchall()\n",
        "\n",
        "for Linha in Consulta:\n",
        "  print( Linha )"
      ],
      "metadata": {
        "colab": {
          "base_uri": "https://localhost:8080/"
        },
        "id": "sAi7yN01VstM",
        "outputId": "af162d5f-084b-4e7b-d21c-cecbf151d796"
      },
      "execution_count": null,
      "outputs": [
        {
          "output_type": "stream",
          "name": "stdout",
          "text": [
            "('05/01/2021', 'Lucas', 15.0)\n",
            "('05/01/2021', 'Lucas', 20.0)\n",
            "('05/01/2021', 'Lucas', 19.0)\n",
            "('05/01/2021', 'Lucas', 19.0)\n",
            "('05/01/2021', 'Lucas', 20.0)\n",
            "('05/01/2021', 'Lucas', 17.0)\n",
            "('05/01/2021', 'Lucas', 18.0)\n",
            "('05/01/2021', 'Lucas', 17.0)\n"
          ]
        }
      ]
    },
    {
      "cell_type": "markdown",
      "source": [
        "# **6. - LIKE**\n",
        "O LIKE operador é usado em uma WHERE cláusula para procurar um padrão especificado em uma coluna. <p>\n",
        "\n",
        "Existem dois curingas frequentemente usados ​​em conjunto com o LIKEoperador:\n",
        "\n",
        " 1. O sinal de porcentagem (%) representa zero, um ou vários caracteres\n",
        " 2. O sinal de sublinhado (_) representa um único caractere\n",
        "\n",
        "![image.png](data:image/png;base64,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)"
      ],
      "metadata": {
        "id": "blmifCuW5AcQ"
      }
    },
    {
      "cell_type": "code",
      "source": [
        "# Query procurando algo que começe \n",
        "Consulta = Cursor.execute(\n",
        "    '''\n",
        "    SELECT * FROM Minha_Tabela\n",
        "    WHERE Nome LIKE 'O%'\n",
        "    '''\n",
        ").fetchall()\n",
        "\n",
        "for Linha in Consulta:\n",
        "  print( Linha )"
      ],
      "metadata": {
        "colab": {
          "base_uri": "https://localhost:8080/"
        },
        "id": "by-JhmFAWfkV",
        "outputId": "c5d89625-3a87-48e7-9aad-619518c1ea06"
      },
      "execution_count": null,
      "outputs": [
        {
          "output_type": "stream",
          "name": "stdout",
          "text": [
            "('01/01/2021', 'Odemir', 30.0)\n"
          ]
        }
      ]
    },
    {
      "cell_type": "code",
      "source": [
        "# Query procurando algo que termine com\n",
        "Consulta = Cursor.execute(\n",
        "    '''\n",
        "    SELECT * FROM Minha_Tabela\n",
        "    WHERE Nome LIKE '%s'\n",
        "    '''\n",
        ").fetchall()\n",
        "\n",
        "for Linha in Consulta:\n",
        "  print( Linha )"
      ],
      "metadata": {
        "colab": {
          "base_uri": "https://localhost:8080/"
        },
        "id": "6c8xs4vu8qI7",
        "outputId": "74942efb-3451-4c7f-c9d4-0ada4f5e16bf"
      },
      "execution_count": null,
      "outputs": [
        {
          "output_type": "stream",
          "name": "stdout",
          "text": [
            "('05/01/2021', 'Lucas', 30.0)\n",
            "('05/01/2021', 'Lucas', 15.0)\n",
            "('05/01/2021', 'Lucas', 11.0)\n",
            "('05/01/2021', 'Lucas', 20.0)\n",
            "('05/01/2021', 'Lucas', 19.0)\n",
            "('05/01/2021', 'Lucas', 13.0)\n",
            "('05/01/2021', 'Lucas', 19.0)\n",
            "('05/01/2021', 'Lucas', 20.0)\n",
            "('05/01/2021', 'Lucas', 17.0)\n",
            "('05/01/2021', 'Lucas', 18.0)\n",
            "('05/01/2021', 'Lucas', 17.0)\n"
          ]
        }
      ]
    },
    {
      "cell_type": "code",
      "source": [
        "# Query procurando algo que tenha o padrão\n",
        "Consulta = Cursor.execute(\n",
        "    '''\n",
        "    SELECT * FROM Minha_Tabela\n",
        "    WHERE Nome LIKE '%ucas%'\n",
        "    '''\n",
        ").fetchall()\n",
        "\n",
        "for Linha in Consulta:\n",
        "  print( Linha )"
      ],
      "metadata": {
        "colab": {
          "base_uri": "https://localhost:8080/"
        },
        "id": "blZaS14d8qLT",
        "outputId": "cf205a83-d1d1-49bf-a8de-c4310a13e0eb"
      },
      "execution_count": null,
      "outputs": [
        {
          "output_type": "stream",
          "name": "stdout",
          "text": [
            "('05/01/2021', 'Lucas', 30.0)\n",
            "('05/01/2021', 'Lucas', 15.0)\n",
            "('05/01/2021', 'Lucas', 11.0)\n",
            "('05/01/2021', 'Lucas', 20.0)\n",
            "('05/01/2021', 'Lucas', 19.0)\n",
            "('05/01/2021', 'Lucas', 13.0)\n",
            "('05/01/2021', 'Lucas', 19.0)\n",
            "('05/01/2021', 'Lucas', 20.0)\n",
            "('05/01/2021', 'Lucas', 17.0)\n",
            "('05/01/2021', 'Lucas', 18.0)\n",
            "('05/01/2021', 'Lucas', 17.0)\n"
          ]
        }
      ]
    },
    {
      "cell_type": "markdown",
      "source": [
        "# **7. - IN**\n",
        "O IN operador permite especificar vários valores em uma WHEREcláusula. <p>\n",
        "O IN operador é um atalho para várias ORcondições."
      ],
      "metadata": {
        "id": "-AiL6r_w5-mm"
      }
    },
    {
      "cell_type": "code",
      "source": [
        "# Query procurando algo com o IN\n",
        "Consulta = Cursor.execute(\n",
        "    '''\n",
        "    SELECT * FROM Minha_Tabela\n",
        "    WHERE Idade IN (18, 20, 30)\n",
        "    '''\n",
        ").fetchall()\n",
        "\n",
        "for Linha in Consulta:\n",
        "  print( Linha )"
      ],
      "metadata": {
        "colab": {
          "base_uri": "https://localhost:8080/"
        },
        "id": "k5sZGWcSYB-P",
        "outputId": "2fb29e0a-a4bd-46b4-c6ba-0796b54a64f8"
      },
      "execution_count": null,
      "outputs": [
        {
          "output_type": "stream",
          "name": "stdout",
          "text": [
            "('01/01/2021', 'Odemir', 30.0)\n",
            "('05/01/2021', 'Lucas', 30.0)\n",
            "('05/01/2021', 'Lucas', 20.0)\n",
            "('05/01/2021', 'Lucas', 20.0)\n",
            "('05/01/2021', 'Lucas', 18.0)\n"
          ]
        }
      ]
    },
    {
      "cell_type": "code",
      "source": [
        "# Query procurando algo com o IN\n",
        "Consulta = Cursor.execute(\n",
        "    '''\n",
        "    SELECT * FROM Minha_Tabela\n",
        "    WHERE Nome IN ('Odemir')\n",
        "    '''\n",
        ").fetchall()\n",
        "\n",
        "for Linha in Consulta:\n",
        "  print( Linha )"
      ],
      "metadata": {
        "colab": {
          "base_uri": "https://localhost:8080/"
        },
        "id": "LS4Znzdw-1_b",
        "outputId": "736fe655-a627-4aa7-d9ae-59253d121070"
      },
      "execution_count": null,
      "outputs": [
        {
          "output_type": "stream",
          "name": "stdout",
          "text": [
            "('01/01/2021', 'Odemir', 30.0)\n"
          ]
        }
      ]
    },
    {
      "cell_type": "markdown",
      "source": [
        "# **8. - AND, OR, NOT <p>**\n",
        "A WHERE cláusula pode ser combinada com os operadores AND, OR e NOT\n",
        "\n",
        "Os operadores AND e OR são usados ​​para filtrar registros com base em mais de uma condição:\n",
        "\n",
        "1. O AND operador exibe um registro se todas as condições separadas por AND forem TRUE.\n",
        "2. O OR operador exibe um registro se alguma das condições separadas por OR for TRUE.\n",
        "3. O NOT operador exibe um registro se a(s) condição(ões) NÃO for VERDADEIRA."
      ],
      "metadata": {
        "id": "rDZpEra-6xaq"
      }
    },
    {
      "cell_type": "code",
      "source": [
        "# ANd\n",
        "Consulta = Cursor.execute(\n",
        "    ''' \n",
        "    SELECT * FROM Minha_Tabela\n",
        "    WHERE Idade = 15 AND Nome = 'Lucas'\n",
        "    '''\n",
        ").fetchall()\n",
        "\n",
        "print( Consulta )"
      ],
      "metadata": {
        "colab": {
          "base_uri": "https://localhost:8080/"
        },
        "id": "NKT-JfVP7AwK",
        "outputId": "3028c61e-5730-4918-8cd4-9ad8c0fdc261"
      },
      "execution_count": null,
      "outputs": [
        {
          "output_type": "stream",
          "name": "stdout",
          "text": [
            "[('05/01/2021', 'Lucas', 15.0)]\n"
          ]
        }
      ]
    },
    {
      "cell_type": "code",
      "source": [
        "# OR\n",
        "Consulta = Cursor.execute(\n",
        "    ''' \n",
        "    SELECT * FROM Minha_Tabela\n",
        "    WHERE Idade = 15 OR Nome = 'Odemir'\n",
        "    '''\n",
        ").fetchall()\n",
        "\n",
        "print( Consulta )"
      ],
      "metadata": {
        "colab": {
          "base_uri": "https://localhost:8080/"
        },
        "id": "YJ6HHfhUewQY",
        "outputId": "8d575606-9472-4053-e6b3-d35a80824231"
      },
      "execution_count": null,
      "outputs": [
        {
          "output_type": "stream",
          "name": "stdout",
          "text": [
            "[('01/01/2021', 'Odemir', 30.0), ('05/01/2021', 'Lucas', 15.0)]\n"
          ]
        }
      ]
    },
    {
      "cell_type": "code",
      "source": [
        "# NOT\n",
        "Consulta = Cursor.execute(\n",
        "    ''' \n",
        "    SELECT * FROM Minha_Tabela\n",
        "    WHERE NOT Nome = 'Lucas'\n",
        "    '''\n",
        ").fetchall()\n",
        "\n",
        "print( Consulta )"
      ],
      "metadata": {
        "colab": {
          "base_uri": "https://localhost:8080/"
        },
        "id": "jBmT6Dm7ewTM",
        "outputId": "1387730a-c54e-4f57-b367-6e2dfb3f19aa"
      },
      "execution_count": null,
      "outputs": [
        {
          "output_type": "stream",
          "name": "stdout",
          "text": [
            "[('01/01/2021', 'Odemir', 30.0)]\n"
          ]
        }
      ]
    },
    {
      "cell_type": "code",
      "source": [
        "# Combinação de Parametros AND OR NOT\n",
        "Consulta = Cursor.execute(\n",
        "    ''' \n",
        "    SELECT * FROM Minha_Tabela\n",
        "    WHERE Nome = 'Lucas' AND ( Idade > 15 OR Idade < 20 ) AND NOT Idade = 15\n",
        "    '''\n",
        ").fetchall()\n",
        "\n",
        "print( Consulta )"
      ],
      "metadata": {
        "colab": {
          "base_uri": "https://localhost:8080/"
        },
        "id": "5MQUgF6pewaj",
        "outputId": "86084196-0523-4bd3-beb9-c511ecbaf0b4"
      },
      "execution_count": null,
      "outputs": [
        {
          "output_type": "stream",
          "name": "stdout",
          "text": [
            "[('05/01/2021', 'Lucas', 30.0), ('05/01/2021', 'Lucas', 10.0), ('05/01/2021', 'Lucas', 18.0), ('05/01/2021', 'Lucas', 18.0), ('05/01/2021', 'Lucas', 18.0), ('05/01/2021', 'Lucas', 19.0), ('05/01/2021', 'Lucas', 13.0), ('05/01/2021', 'Lucas', 11.0), ('05/01/2021', 'Lucas', 17.0), ('05/01/2021', 'Lucas', 17.0)]\n"
          ]
        }
      ]
    },
    {
      "cell_type": "markdown",
      "source": [
        "# **9. - ORDER BY <p>**\n",
        "A ORDER BY é usada para classificar o conjunto de resultados em ordem crescente ou decrescente.\n",
        "\n",
        "A instrução ORDER BY classifica os registros em ordem crescente por padrão. <p>Para classificar os registros em ordem decrescente, use a palavra DESC."
      ],
      "metadata": {
        "id": "0oWPgqgt8Dpw"
      }
    },
    {
      "cell_type": "code",
      "source": [
        "# Ordenando os valore\n",
        "Consulta = Cursor.execute(\n",
        "    ''' \n",
        "    SELECT * FROM Minha_Tabela\n",
        "    ORDER BY Idade, Nome\n",
        "    '''\n",
        ").fetchall()\n",
        "\n",
        "for Linha in Consulta:\n",
        "  print( Linha )"
      ],
      "metadata": {
        "colab": {
          "base_uri": "https://localhost:8080/"
        },
        "id": "y7gaAnf6hLwB",
        "outputId": "2b3ee5cf-dae8-4815-ab3f-008e7479aa51"
      },
      "execution_count": null,
      "outputs": [
        {
          "output_type": "stream",
          "name": "stdout",
          "text": [
            "('05/01/2021', 'Lucas', 10.0)\n",
            "('05/01/2021', 'Lucas', 11.0)\n",
            "('05/01/2021', 'Lucas', 13.0)\n",
            "('05/01/2021', 'Lucas', 15.0)\n",
            "('05/01/2021', 'Lucas', 17.0)\n",
            "('05/01/2021', 'Lucas', 17.0)\n",
            "('05/01/2021', 'Lucas', 18.0)\n",
            "('05/01/2021', 'Lucas', 18.0)\n",
            "('05/01/2021', 'Lucas', 18.0)\n",
            "('05/01/2021', 'Lucas', 19.0)\n",
            "('05/01/2021', 'Lucas', 30.0)\n",
            "('01/01/2021', 'Odemir', 30.0)\n"
          ]
        }
      ]
    },
    {
      "cell_type": "code",
      "source": [
        "# Ordenando os valores decrecente\n",
        "Consulta = Cursor.execute(\n",
        "    ''' \n",
        "    SELECT * FROM Minha_Tabela\n",
        "    ORDER BY Idade DESC\n",
        "    '''\n",
        ").fetchall()\n",
        "\n",
        "for Linha in Consulta:\n",
        "  print( Linha )"
      ],
      "metadata": {
        "colab": {
          "base_uri": "https://localhost:8080/"
        },
        "id": "hZxfbwLzhLyb",
        "outputId": "3d7c86de-a302-412c-db98-f54d5b81e1b0"
      },
      "execution_count": null,
      "outputs": [
        {
          "output_type": "stream",
          "name": "stdout",
          "text": [
            "('01/01/2021', 'Odemir', 30.0)\n",
            "('05/01/2021', 'Lucas', 30.0)\n",
            "('05/01/2021', 'Lucas', 19.0)\n",
            "('05/01/2021', 'Lucas', 18.0)\n",
            "('05/01/2021', 'Lucas', 18.0)\n",
            "('05/01/2021', 'Lucas', 18.0)\n",
            "('05/01/2021', 'Lucas', 17.0)\n",
            "('05/01/2021', 'Lucas', 17.0)\n",
            "('05/01/2021', 'Lucas', 15.0)\n",
            "('05/01/2021', 'Lucas', 13.0)\n",
            "('05/01/2021', 'Lucas', 11.0)\n",
            "('05/01/2021', 'Lucas', 10.0)\n"
          ]
        }
      ]
    },
    {
      "cell_type": "markdown",
      "source": [
        "# **10. - NULL VALUES <p>**\n",
        "Um campo com valor NULL é um campo sem valor.\n",
        "\n",
        "Se um campo em uma tabela for opcional, é possível inserir um novo registro ou atualizar um registro sem adicionar um valor a esse campo. Em seguida, o campo será salvo com um valor NULL.<p>\n",
        "\n",
        "Não é possível testar valores **NULL** com operadores de comparação, como =, < ou <>.\n",
        "<p>\n",
        "Teremos que usar os operadores IS NULL e em vez disso IS NOT NULL\n",
        "\n"
      ],
      "metadata": {
        "id": "_bYLnEDG9Ehw"
      }
    },
    {
      "cell_type": "code",
      "source": [
        "# Preenchendo valores nulos\n",
        "Cursor.execute('INSERT INTO Minha_Tabela VALUES (\"ABC\", null, 30 ) ')\n",
        "Cursor.execute('INSERT INTO Minha_Tabela VALUES (\"ABC\", null, null ) ')"
      ],
      "metadata": {
        "colab": {
          "base_uri": "https://localhost:8080/"
        },
        "id": "E_YKi-BIiCvZ",
        "outputId": "4cf498c4-f7b3-4a9a-e180-47d70b2084b7"
      },
      "execution_count": null,
      "outputs": [
        {
          "output_type": "execute_result",
          "data": {
            "text/plain": [
              "<sqlite3.Cursor at 0x7f4a5d297030>"
            ]
          },
          "metadata": {},
          "execution_count": 27
        }
      ]
    },
    {
      "cell_type": "code",
      "source": [
        "# Verificando valores nulos\n",
        "Consulta = Cursor.execute(\n",
        "    ''' \n",
        "    SELECT * FROM Minha_Tabela\n",
        "    WHERE Nome IS NULL\n",
        "    '''\n",
        ").fetchall()\n",
        "\n",
        "print( Consulta )"
      ],
      "metadata": {
        "colab": {
          "base_uri": "https://localhost:8080/"
        },
        "id": "90nH6kpiiEla",
        "outputId": "35401b83-eef7-4ea4-f450-bc7bee49e3a1"
      },
      "execution_count": null,
      "outputs": [
        {
          "output_type": "stream",
          "name": "stdout",
          "text": [
            "[('ABC', None, 30.0), ('ABC', None, None)]\n"
          ]
        }
      ]
    },
    {
      "cell_type": "code",
      "source": [
        "# Verificando valores não nulos\n",
        "Consulta = Cursor.execute(\n",
        "    ''' \n",
        "    SELECT * FROM Minha_Tabela\n",
        "    WHERE Nome IS NOT NULL\n",
        "    '''\n",
        ").fetchall()\n",
        "\n",
        "print( Consulta )"
      ],
      "metadata": {
        "colab": {
          "base_uri": "https://localhost:8080/"
        },
        "id": "jW3D4LZ6iEoM",
        "outputId": "0e1c610c-0ce1-4d3a-fe9f-9dd85d130990"
      },
      "execution_count": null,
      "outputs": [
        {
          "output_type": "stream",
          "name": "stdout",
          "text": [
            "[('01/01/2021', 'Odemir', 30.0), ('05/01/2021', 'Lucas', 30.0), ('05/01/2021', 'Lucas', 10.0), ('05/01/2021', 'Lucas', 18.0), ('05/01/2021', 'Lucas', 18.0), ('05/01/2021', 'Lucas', 18.0), ('05/01/2021', 'Lucas', 15.0), ('05/01/2021', 'Lucas', 19.0), ('05/01/2021', 'Lucas', 13.0), ('05/01/2021', 'Lucas', 11.0), ('05/01/2021', 'Lucas', 17.0), ('05/01/2021', 'Lucas', 17.0)]\n"
          ]
        }
      ]
    },
    {
      "cell_type": "markdown",
      "source": [
        "# **11. - SQL UPDATE <p>**\n",
        "A UPDATE instrução é usada para modificar os registros existentes em uma tabela."
      ],
      "metadata": {
        "id": "bVWKMX3m_oAd"
      }
    },
    {
      "cell_type": "code",
      "source": [
        "# Verificando valores não nulos\n",
        "Consulta = Cursor.execute(\n",
        "    ''' \n",
        "    SELECT * FROM Minha_Tabela\n",
        "    '''\n",
        ").fetchall()\n",
        "\n",
        "for Linha in Consulta:\n",
        "  print( Linha )"
      ],
      "metadata": {
        "colab": {
          "base_uri": "https://localhost:8080/"
        },
        "id": "9ttO6o9tkmdW",
        "outputId": "5f135936-2d8e-4d0f-a462-4f430b13df00"
      },
      "execution_count": null,
      "outputs": [
        {
          "output_type": "stream",
          "name": "stdout",
          "text": [
            "('01/01/2021', 'Odemir', 30.0)\n",
            "('05/01/2021', 'Lucas', 30.0)\n",
            "('05/01/2021', 'Lucas', 10.0)\n",
            "('05/01/2021', 'Lucas', 18.0)\n",
            "('05/01/2021', 'Lucas', 18.0)\n",
            "('05/01/2021', 'Lucas', 18.0)\n",
            "('05/01/2021', 'Lucas', 15.0)\n",
            "('05/01/2021', 'Lucas', 19.0)\n",
            "('05/01/2021', 'Lucas', 13.0)\n",
            "('05/01/2021', 'Lucas', 11.0)\n",
            "('05/01/2021', 'Lucas', 17.0)\n",
            "('05/01/2021', 'Lucas', 17.0)\n",
            "('ABC', None, 30.0)\n",
            "('ABC', None, None)\n"
          ]
        }
      ]
    },
    {
      "cell_type": "code",
      "source": [
        "# Verificando valores não nulos\n",
        "Consulta = Cursor.execute(\n",
        "    ''' \n",
        "    UPDATE Minha_Tabela\n",
        "    SET Nome = 'Preenchido'\n",
        "    WHERE Nome IS NULL\n",
        "    '''\n",
        ").fetchall()\n",
        "\n",
        "# Verificando\n",
        "Consulta = Cursor.execute(\n",
        "    ''' \n",
        "    SELECT * FROM Minha_Tabela\n",
        "    '''\n",
        ").fetchall()\n",
        "\n",
        "for Linha in Consulta:\n",
        "  print( Linha )"
      ],
      "metadata": {
        "colab": {
          "base_uri": "https://localhost:8080/"
        },
        "id": "zuvRFJXvkmfr",
        "outputId": "c94d525a-5d2b-4aee-c2ae-b3e3923d45a0"
      },
      "execution_count": null,
      "outputs": [
        {
          "output_type": "stream",
          "name": "stdout",
          "text": [
            "('01/01/2021', 'Odemir', 30.0)\n",
            "('05/01/2021', 'Lucas', 30.0)\n",
            "('05/01/2021', 'Lucas', 10.0)\n",
            "('05/01/2021', 'Lucas', 18.0)\n",
            "('05/01/2021', 'Lucas', 18.0)\n",
            "('05/01/2021', 'Lucas', 18.0)\n",
            "('05/01/2021', 'Lucas', 15.0)\n",
            "('05/01/2021', 'Lucas', 19.0)\n",
            "('05/01/2021', 'Lucas', 13.0)\n",
            "('05/01/2021', 'Lucas', 11.0)\n",
            "('05/01/2021', 'Lucas', 17.0)\n",
            "('05/01/2021', 'Lucas', 17.0)\n",
            "('ABC', 'Preenchido', 30.0)\n",
            "('ABC', 'Preenchido', None)\n"
          ]
        }
      ]
    },
    {
      "cell_type": "code",
      "source": [
        "# Verificando valores não nulos\n",
        "Consulta = Cursor.execute(\n",
        "    ''' \n",
        "    UPDATE Minha_Tabela\n",
        "    SET Idade = 29\n",
        "    WHERE Idade IS NULL\n",
        "    '''\n",
        ").fetchall()\n",
        "\n",
        "# Verificando\n",
        "Consulta = Cursor.execute(\n",
        "    ''' \n",
        "    SELECT * FROM Minha_Tabela\n",
        "    '''\n",
        ").fetchall()\n",
        "\n",
        "for Linha in Consulta:\n",
        "  print( Linha )"
      ],
      "metadata": {
        "colab": {
          "base_uri": "https://localhost:8080/"
        },
        "id": "o1xw1YpMkmiL",
        "outputId": "a7b7eee0-8116-4de7-d174-f959b65eb4b8"
      },
      "execution_count": null,
      "outputs": [
        {
          "output_type": "stream",
          "name": "stdout",
          "text": [
            "('01/01/2021', 'Odemir', 30.0)\n",
            "('05/01/2021', 'Lucas', 30.0)\n",
            "('05/01/2021', 'Lucas', 10.0)\n",
            "('05/01/2021', 'Lucas', 18.0)\n",
            "('05/01/2021', 'Lucas', 18.0)\n",
            "('05/01/2021', 'Lucas', 18.0)\n",
            "('05/01/2021', 'Lucas', 15.0)\n",
            "('05/01/2021', 'Lucas', 19.0)\n",
            "('05/01/2021', 'Lucas', 13.0)\n",
            "('05/01/2021', 'Lucas', 11.0)\n",
            "('05/01/2021', 'Lucas', 17.0)\n",
            "('05/01/2021', 'Lucas', 17.0)\n",
            "('ABC', 'Preenchido', 30.0)\n",
            "('ABC', 'Preenchido', 29.0)\n"
          ]
        }
      ]
    },
    {
      "cell_type": "markdown",
      "source": [
        "# **12. - DELETE <p>**\n",
        "A DELETE instrução é usada para excluir registros existentes em uma tabela."
      ],
      "metadata": {
        "id": "LbNXzmSN57k5"
      }
    },
    {
      "cell_type": "code",
      "source": [
        "# Verificando valores não nulos\n",
        "Consulta = Cursor.execute(\n",
        "    ''' \n",
        "    DELETE from Minha_Tabela\n",
        "    WHERE Nome = 'Preenchido'\n",
        "    '''\n",
        ").fetchall()"
      ],
      "metadata": {
        "id": "o9XqXbq56YZx"
      },
      "execution_count": null,
      "outputs": []
    },
    {
      "cell_type": "code",
      "source": [
        "# Verificando\n",
        "Consulta = Cursor.execute(\n",
        "    ''' \n",
        "    SELECT * FROM Minha_Tabela\n",
        "    '''\n",
        ").fetchall()\n",
        "\n",
        "for Linha in Consulta:\n",
        "  print( Linha )"
      ],
      "metadata": {
        "colab": {
          "base_uri": "https://localhost:8080/"
        },
        "id": "y6VcZTZh0X5x",
        "outputId": "84b3fade-51e0-4ad6-eeef-456f15c439d1"
      },
      "execution_count": null,
      "outputs": [
        {
          "output_type": "stream",
          "name": "stdout",
          "text": [
            "('01/01/2021', 'Odemir', 30.0)\n",
            "('05/01/2021', 'Lucas', 30.0)\n",
            "('05/01/2021', 'Lucas', 10.0)\n",
            "('05/01/2021', 'Lucas', 18.0)\n",
            "('05/01/2021', 'Lucas', 18.0)\n",
            "('05/01/2021', 'Lucas', 18.0)\n",
            "('05/01/2021', 'Lucas', 15.0)\n",
            "('05/01/2021', 'Lucas', 19.0)\n",
            "('05/01/2021', 'Lucas', 13.0)\n",
            "('05/01/2021', 'Lucas', 11.0)\n",
            "('05/01/2021', 'Lucas', 17.0)\n",
            "('05/01/2021', 'Lucas', 17.0)\n"
          ]
        }
      ]
    },
    {
      "cell_type": "code",
      "source": [
        "# Verificando valores não nulos\n",
        "Consulta = Cursor.execute(\n",
        "    ''' \n",
        "    DELETE from Minha_Tabela\n",
        "    WHERE Nome = 'Lucas' AND Idade = 15\n",
        "    '''\n",
        ").fetchall()"
      ],
      "metadata": {
        "id": "C-DoxP3g0X-r"
      },
      "execution_count": null,
      "outputs": []
    },
    {
      "cell_type": "code",
      "source": [
        "# Verificando\n",
        "Consulta = Cursor.execute(\n",
        "    ''' \n",
        "    SELECT * FROM Minha_Tabela\n",
        "    '''\n",
        ").fetchall()\n",
        "\n",
        "for Linha in Consulta:\n",
        "  print( Linha )"
      ],
      "metadata": {
        "colab": {
          "base_uri": "https://localhost:8080/"
        },
        "id": "BpUl3IVT0YAZ",
        "outputId": "1d83eb10-a25e-42c1-94c2-b66a987e9ccc"
      },
      "execution_count": null,
      "outputs": [
        {
          "output_type": "stream",
          "name": "stdout",
          "text": [
            "('01/01/2021', 'Odemir', 30.0)\n",
            "('05/01/2021', 'Lucas', 30.0)\n",
            "('05/01/2021', 'Lucas', 10.0)\n",
            "('05/01/2021', 'Lucas', 18.0)\n",
            "('05/01/2021', 'Lucas', 18.0)\n",
            "('05/01/2021', 'Lucas', 18.0)\n",
            "('05/01/2021', 'Lucas', 19.0)\n",
            "('05/01/2021', 'Lucas', 13.0)\n",
            "('05/01/2021', 'Lucas', 11.0)\n",
            "('05/01/2021', 'Lucas', 17.0)\n",
            "('05/01/2021', 'Lucas', 17.0)\n"
          ]
        }
      ]
    },
    {
      "cell_type": "markdown",
      "source": [
        "# **13. - SELECT TOP <p>**\n",
        "A SELECT TOP cláusula é usada para especificar o número de registros a serem retornados.\n",
        "\n",
        "A SELECT TOP cláusula é útil em tabelas grandes com milhares de registros. Retornar um grande número de registros pode afetar o desempenho.."
      ],
      "metadata": {
        "id": "ofnPlYXs6noo"
      }
    },
    {
      "cell_type": "code",
      "source": [
        "# Verificando\n",
        "Consulta = Cursor.execute(\n",
        "    ''' \n",
        "    SELECT * FROM Minha_Tabela\n",
        "    LIMIT 5\n",
        "    '''\n",
        ").fetchall()\n",
        "\n",
        "# Mostrando o retorno\n",
        "print( Consulta )"
      ],
      "metadata": {
        "colab": {
          "base_uri": "https://localhost:8080/"
        },
        "id": "WlbIfAva6c1u",
        "outputId": "5e138768-c4da-4c57-a050-27a94bfd300b"
      },
      "execution_count": null,
      "outputs": [
        {
          "output_type": "stream",
          "name": "stdout",
          "text": [
            "[('01/01/2021', 'Odemir', 30.0), ('05/01/2021', 'Lucas', 30.0), ('05/01/2021', 'Lucas', 10.0), ('05/01/2021', 'Lucas', 18.0), ('05/01/2021', 'Lucas', 18.0)]\n"
          ]
        }
      ]
    },
    {
      "cell_type": "markdown",
      "source": [
        "# **14. - MIN e MAX <p>**\n",
        "A MIN()função retorna o menor valor da coluna selecionada.<p>\n",
        "\n",
        "A MAX()função retorna o maior valor da coluna selecionada."
      ],
      "metadata": {
        "id": "U60nRi377xhi"
      }
    },
    {
      "cell_type": "code",
      "source": [
        "# Verificando\n",
        "Consulta = Cursor.execute(\n",
        "    ''' \n",
        "    SELECT MIN (Idade) FROM Minha_Tabela\n",
        "    '''\n",
        ").fetchall()\n",
        "\n",
        "# Mostrando o retorno\n",
        "print( Consulta )"
      ],
      "metadata": {
        "colab": {
          "base_uri": "https://localhost:8080/"
        },
        "id": "ZOumolG275OV",
        "outputId": "40a0d935-9485-4786-adfa-471656e1bde3"
      },
      "execution_count": null,
      "outputs": [
        {
          "output_type": "stream",
          "name": "stdout",
          "text": [
            "[(10.0,)]\n"
          ]
        }
      ]
    },
    {
      "cell_type": "code",
      "source": [
        "# Verificando\n",
        "Consulta = Cursor.execute(\n",
        "    ''' \n",
        "    SELECT MAX (Idade) FROM Minha_Tabela\n",
        "    '''\n",
        ").fetchall()\n",
        "\n",
        "# Mostrando o retorno\n",
        "print( Consulta )"
      ],
      "metadata": {
        "colab": {
          "base_uri": "https://localhost:8080/"
        },
        "id": "BNYymPN12wTq",
        "outputId": "b8351ac3-92c4-4a75-d2b1-e7a05558bbb7"
      },
      "execution_count": null,
      "outputs": [
        {
          "output_type": "stream",
          "name": "stdout",
          "text": [
            "[(30.0,)]\n"
          ]
        }
      ]
    },
    {
      "cell_type": "markdown",
      "source": [
        "# **15. - COUNT, AVG e SUM <p>**\n",
        "A COUNT()função retorna o número de linhas que corresponde a um critério especificado.<p>\n",
        "A AVG()função retorna o valor médio de uma coluna numérica. <p>\n",
        "A SUM()função retorna a soma total de uma coluna numérica. "
      ],
      "metadata": {
        "id": "ZwmSdFKl8da9"
      }
    },
    {
      "cell_type": "code",
      "source": [
        "# Verificando\n",
        "Consulta = Cursor.execute(\n",
        "    ''' \n",
        "    SELECT COUNT (Idade) FROM Minha_Tabela\n",
        "    '''\n",
        ").fetchall()\n",
        "\n",
        "# Mostrando o retorno\n",
        "print( Consulta )"
      ],
      "metadata": {
        "colab": {
          "base_uri": "https://localhost:8080/"
        },
        "id": "mB4JvsY58FGG",
        "outputId": "ef32f260-bd19-4948-a033-b12f31760a73"
      },
      "execution_count": null,
      "outputs": [
        {
          "output_type": "stream",
          "name": "stdout",
          "text": [
            "[(11,)]\n"
          ]
        }
      ]
    },
    {
      "cell_type": "code",
      "source": [
        "# Verificando\n",
        "Consulta = Cursor.execute(\n",
        "    ''' \n",
        "    SELECT AVG (Idade) FROM Minha_Tabela\n",
        "    '''\n",
        ").fetchall()\n",
        "\n",
        "# Mostrando o retorno\n",
        "print( Consulta )"
      ],
      "metadata": {
        "colab": {
          "base_uri": "https://localhost:8080/"
        },
        "id": "AbpMy7Xw3db1",
        "outputId": "4f50c699-f333-4244-f80b-81145b609e24"
      },
      "execution_count": null,
      "outputs": [
        {
          "output_type": "stream",
          "name": "stdout",
          "text": [
            "[(18.272727272727273,)]\n"
          ]
        }
      ]
    },
    {
      "cell_type": "code",
      "source": [
        "# Verificando\n",
        "Consulta = Cursor.execute(\n",
        "    ''' \n",
        "    SELECT SUM (Idade) FROM Minha_Tabela\n",
        "    '''\n",
        ").fetchall()\n",
        "\n",
        "# Mostrando o retorno\n",
        "print( Consulta )"
      ],
      "metadata": {
        "colab": {
          "base_uri": "https://localhost:8080/"
        },
        "id": "QEnzOtL_3dev",
        "outputId": "2a72b08c-ac8c-4c79-8045-1f51b9aa2a1e"
      },
      "execution_count": null,
      "outputs": [
        {
          "output_type": "stream",
          "name": "stdout",
          "text": [
            "[(201.0,)]\n"
          ]
        }
      ]
    },
    {
      "cell_type": "markdown",
      "source": [
        "# **16. - ALIASES <p>**\n",
        "Os aliases SQL são usados ​​para fornecer um nome temporário a uma tabela ou coluna em uma tabela. <P>\n",
        "Os aliases são frequentemente usados ​​para tornar os nomes das colunas mais legíveis. <P>\n",
        "Um alias existe apenas durante essa consulta. <P>\n",
        "Um alias é criado com a palavra AS chave."
      ],
      "metadata": {
        "id": "FbKCVo4p9CtN"
      }
    },
    {
      "cell_type": "code",
      "source": [
        "# Verificando\n",
        "Consulta = Cursor.execute(\n",
        "    ''' \n",
        "    SELECT Idade AS Cadastro_clientes FROM Minha_Tabela\n",
        "    '''\n",
        ").fetchall()\n",
        "\n",
        "# Mostrando o retorno\n",
        "print( Consulta )"
      ],
      "metadata": {
        "colab": {
          "base_uri": "https://localhost:8080/"
        },
        "id": "2CJmzqnL8yHF",
        "outputId": "1c8905fc-233d-4ee3-a189-c4ea3c22393d"
      },
      "execution_count": null,
      "outputs": [
        {
          "output_type": "stream",
          "name": "stdout",
          "text": [
            "[(30.0,), (30.0,), (10.0,), (18.0,), (18.0,), (18.0,), (19.0,), (13.0,), (11.0,), (17.0,), (17.0,)]\n"
          ]
        }
      ]
    },
    {
      "cell_type": "markdown",
      "source": [
        "# **17. - JOINS <p>**\n",
        "Uma JOIN cláusula é usada para combinar linhas de duas ou mais tabelas, com base em uma coluna relacionada entre elas.\n",
        "\n",
        "Aqui estão os diferentes tipos de JOINs no SQL:\n",
        "\n",
        "1. (INNER) JOIN: Retorna registros que possuem valores correspondentes em ambas as tabelas\n",
        "2. LEFT (OUTER) JOIN: Retorna todos os registros da tabela da esquerda e os registros correspondentes da tabela da direita\n",
        "3. RIGHT (OUTER) JOIN: Retorna todos os registros da tabela da direita e os registros correspondentes da tabela da esquerda\n",
        "4. FULL (OUTER) JOIN: Retorna todos os registros quando há uma correspondência na tabela esquerda ou direita\n",
        "![image.png](data:image/png;base64,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)\n",
        "\n"
      ],
      "metadata": {
        "id": "SoueJnx4Mr7m"
      }
    },
    {
      "cell_type": "code",
      "source": [
        "# Verificando\n",
        "\n",
        "#### --- ID do Vendedor e valor de venda dele\n",
        "Consulta = Cursor.execute(\n",
        "    ''' \n",
        "    CREATE TABLE Tab_Vendas (id real, valor real)\n",
        "    '''\n",
        ")\n",
        "\n",
        "# Criando a tabela\n",
        "Conexao.commit()"
      ],
      "metadata": {
        "id": "PXdG_pLX8fCM"
      },
      "execution_count": null,
      "outputs": []
    },
    {
      "cell_type": "code",
      "source": [
        "# Verificando\n",
        "\n",
        "#### --- Dados Cadastrais dos vendedores\n",
        "Consulta = Cursor.execute(\n",
        "    ''' \n",
        "    CREATE TABLE Tab_Cadastro_Vendedor (id real, nome text)\n",
        "    '''\n",
        ")\n",
        "\n",
        "# Criando a tabela\n",
        "Conexao.commit()"
      ],
      "metadata": {
        "id": "wrJVZGR6D7Dm"
      },
      "execution_count": null,
      "outputs": []
    },
    {
      "cell_type": "code",
      "source": [
        "# Vendas dos vendedores\n",
        "Cursor.execute( 'INSERT INTO Tab_Vendas VALUES (1, 100) ' )\n",
        "Cursor.execute( 'INSERT INTO Tab_Vendas VALUES (1, 200) ' )\n",
        "Cursor.execute( 'INSERT INTO Tab_Vendas VALUES (1, 150) ' )\n",
        "\n",
        "Cursor.execute( 'INSERT INTO Tab_Vendas VALUES (2, 50) ' )\n",
        "Cursor.execute( 'INSERT INTO Tab_Vendas VALUES (2, 200) ' )\n",
        "Cursor.execute( 'INSERT INTO Tab_Vendas VALUES (2, 900) ' )"
      ],
      "metadata": {
        "colab": {
          "base_uri": "https://localhost:8080/"
        },
        "id": "y0IF1nOGD7G3",
        "outputId": "07925106-5150-4b02-ad34-0a1d181df53d"
      },
      "execution_count": null,
      "outputs": [
        {
          "output_type": "execute_result",
          "data": {
            "text/plain": [
              "<sqlite3.Cursor at 0x7f30215ef0a0>"
            ]
          },
          "metadata": {},
          "execution_count": 33
        }
      ]
    },
    {
      "cell_type": "code",
      "source": [
        "# Vendas dos vendedores\n",
        "Cursor.execute( 'INSERT INTO Tab_Cadastro_Vendedor VALUES (1, \"Odemir Depieri Jr\") ' )\n",
        "Cursor.execute( 'INSERT INTO Tab_Cadastro_Vendedor VALUES (2, \"Lucas Calmon\") ' )"
      ],
      "metadata": {
        "colab": {
          "base_uri": "https://localhost:8080/"
        },
        "id": "AltY2E6tD7Ji",
        "outputId": "41dc5dce-c611-4bf4-9b66-f161d70ab9d5"
      },
      "execution_count": null,
      "outputs": [
        {
          "output_type": "execute_result",
          "data": {
            "text/plain": [
              "<sqlite3.Cursor at 0x7f30215ef0a0>"
            ]
          },
          "metadata": {},
          "execution_count": 34
        }
      ]
    },
    {
      "cell_type": "code",
      "source": [
        "# Verificando\n",
        "Consulta = Cursor.execute(\n",
        "    ''' \n",
        "    SELECT * FROM Tab_Vendas\n",
        "    '''\n",
        ").fetchall()\n",
        "\n",
        "for Linha in Consulta:\n",
        "  print( Linha )"
      ],
      "metadata": {
        "colab": {
          "base_uri": "https://localhost:8080/"
        },
        "id": "SneEjvX2D7L5",
        "outputId": "5f9de288-930e-40c3-b0ea-aacf31a57688"
      },
      "execution_count": null,
      "outputs": [
        {
          "output_type": "stream",
          "name": "stdout",
          "text": [
            "(1.0, 100.0)\n",
            "(1.0, 200.0)\n",
            "(1.0, 150.0)\n",
            "(2.0, 50.0)\n",
            "(2.0, 200.0)\n",
            "(2.0, 900.0)\n"
          ]
        }
      ]
    },
    {
      "cell_type": "code",
      "source": [
        "# Verificando\n",
        "Consulta = Cursor.execute(\n",
        "    ''' \n",
        "    SELECT * FROM Tab_Cadastro_Vendedor\n",
        "    '''\n",
        ").fetchall()\n",
        "\n",
        "for Linha in Consulta:\n",
        "  print( Linha )"
      ],
      "metadata": {
        "colab": {
          "base_uri": "https://localhost:8080/"
        },
        "id": "oLeDt6gJD7OX",
        "outputId": "b5a13856-190f-4864-fb0e-116983a755f4"
      },
      "execution_count": null,
      "outputs": [
        {
          "output_type": "stream",
          "name": "stdout",
          "text": [
            "(1.0, 'Odemir Depieri Jr')\n",
            "(2.0, 'Lucas Calmon')\n"
          ]
        }
      ]
    },
    {
      "cell_type": "markdown",
      "source": [
        "**18.1 - INNER JOIN**"
      ],
      "metadata": {
        "id": "3lw7esebMrT3"
      }
    },
    {
      "cell_type": "code",
      "source": [
        "# Verificando\n",
        "Consulta = Cursor.execute(\n",
        "    ''' \n",
        "    SELECT * FROM Tab_Vendas\n",
        "    INNER JOIN Tab_Cadastro_Vendedor\n",
        "    ON Tab_Vendas.id = Tab_Cadastro_Vendedor.id\n",
        "    '''\n",
        ").fetchall()\n",
        "\n",
        "for Linha in Consulta:\n",
        "  print( Linha )"
      ],
      "metadata": {
        "colab": {
          "base_uri": "https://localhost:8080/"
        },
        "id": "dZ7yTX94D7Qf",
        "outputId": "3d16aec0-2e84-4630-98bd-a6f46b2e7863"
      },
      "execution_count": null,
      "outputs": [
        {
          "output_type": "stream",
          "name": "stdout",
          "text": [
            "(1.0, 100.0, 1.0, 'Odemir Depieri Jr')\n",
            "(1.0, 200.0, 1.0, 'Odemir Depieri Jr')\n",
            "(1.0, 150.0, 1.0, 'Odemir Depieri Jr')\n",
            "(2.0, 50.0, 2.0, 'Lucas Calmon')\n",
            "(2.0, 200.0, 2.0, 'Lucas Calmon')\n",
            "(2.0, 900.0, 2.0, 'Lucas Calmon')\n"
          ]
        }
      ]
    },
    {
      "cell_type": "markdown",
      "source": [
        "**18.2 - LEFT JOIN**"
      ],
      "metadata": {
        "id": "uTW8NYkQMmLO"
      }
    },
    {
      "cell_type": "code",
      "source": [
        "Cursor.execute( 'INSERT INTO Tab_Vendas VALUES (3, 9999) ' )"
      ],
      "metadata": {
        "colab": {
          "base_uri": "https://localhost:8080/"
        },
        "id": "q-x4obYMMk8p",
        "outputId": "447defe4-ba97-41f7-8b03-78a4e5966c46"
      },
      "execution_count": null,
      "outputs": [
        {
          "output_type": "execute_result",
          "data": {
            "text/plain": [
              "<sqlite3.Cursor at 0x7f30215ef0a0>"
            ]
          },
          "metadata": {},
          "execution_count": 46
        }
      ]
    },
    {
      "cell_type": "code",
      "source": [
        "# Verificando\n",
        "Consulta = Cursor.execute(\n",
        "    ''' \n",
        "    SELECT * FROM Tab_Vendas\n",
        "    LEFT JOIN Tab_Cadastro_Vendedor\n",
        "    ON Tab_Vendas.id = Tab_Cadastro_Vendedor.id\n",
        "    '''\n",
        ").fetchall()\n",
        "\n",
        "for Linha in Consulta:\n",
        "  print( Linha )"
      ],
      "metadata": {
        "colab": {
          "base_uri": "https://localhost:8080/"
        },
        "id": "GyTh38SPMk_s",
        "outputId": "f2eaffdf-1de7-472a-b0d3-edaf3f8092f7"
      },
      "execution_count": null,
      "outputs": [
        {
          "output_type": "stream",
          "name": "stdout",
          "text": [
            "(1.0, 100.0, 1.0, 'Odemir Depieri Jr')\n",
            "(1.0, 200.0, 1.0, 'Odemir Depieri Jr')\n",
            "(1.0, 150.0, 1.0, 'Odemir Depieri Jr')\n",
            "(2.0, 50.0, 2.0, 'Lucas Calmon')\n",
            "(2.0, 200.0, 2.0, 'Lucas Calmon')\n",
            "(2.0, 900.0, 2.0, 'Lucas Calmon')\n",
            "(3.0, 9999.0, None, None)\n"
          ]
        }
      ]
    },
    {
      "cell_type": "markdown",
      "source": [
        "# **18. - UNION <p>**\n",
        "O UNION operador é usado para combinar o conjunto de resultados de duas ou mais SELECT instruções.\n",
        "\n",
        "1. Cada SELECT instrução dentro UNION deve ter o mesmo número de colunas\n",
        "2. As colunas também devem ter tipos de dados semelhantes\n",
        "3. As colunas em cada SELECT instrução também devem estar na mesma ordem"
      ],
      "metadata": {
        "id": "_PNFeSzkYlis"
      }
    },
    {
      "cell_type": "code",
      "source": [
        "# Create table\n",
        "Cursor.execute( \"CREATE TABLE Tabela_X (Id real, Codigo_Sistema text )\" )\n",
        "Conexao.commit()\n",
        "\n",
        "Cursor.execute( \"CREATE TABLE Tabela_Y (Id real, Codigo_Sistema text )\" )\n",
        "Conexao.commit()\n",
        "\n",
        "# Inserindo valores\n",
        "Cursor.execute(\" INSERT INTO Tabela_X VALUES (1, 'Fornecedor') \")\n",
        "Cursor.execute(\" INSERT INTO Tabela_X VALUES (1, 'Fornecedor') \")\n",
        "Cursor.execute(\" INSERT INTO Tabela_X VALUES (1, 'Fornecedor') \")\n",
        "Cursor.execute(\" INSERT INTO Tabela_Y VALUES (1, 'Produtor') \")\n",
        "Cursor.execute(\" INSERT INTO Tabela_Y VALUES (1, 'Produtor') \")\n",
        "Cursor.execute(\" INSERT INTO Tabela_Y VALUES (1, 'Produtor') \")\n",
        "\n",
        "# Fazendo consulta\n",
        "Consulta = Cursor.execute( \"SELECT * FROM Tabela_X\").fetchall()\n",
        "for Linha in Consulta:\n",
        "  print( Linha )\n",
        "\n",
        "print('\\n')\n",
        "Consulta = Cursor.execute( \"SELECT * FROM Tabela_Y\").fetchall()\n",
        "for Linha in Consulta:\n",
        "  print( Linha )"
      ],
      "metadata": {
        "colab": {
          "base_uri": "https://localhost:8080/"
        },
        "id": "aQoaPq4DYvaO",
        "outputId": "cb42655e-a58e-4624-8a6a-eba50f13d66a"
      },
      "execution_count": null,
      "outputs": [
        {
          "output_type": "stream",
          "name": "stdout",
          "text": [
            "(1.0, 'Fornecedor')\n",
            "(1.0, 'Fornecedor')\n",
            "(1.0, 'Fornecedor')\n",
            "\n",
            "\n",
            "(1.0, 'Produtor')\n",
            "(1.0, 'Produtor')\n",
            "(1.0, 'Produtor')\n"
          ]
        }
      ]
    },
    {
      "cell_type": "code",
      "source": [
        "Query = '''\n",
        "SELECT * FROM Tabela_X\n",
        "UNION ALL\n",
        "SELECT * FROM Tabela_Y\n",
        "'''\n",
        "\n",
        "# Fazendo consulta\n",
        "Consulta = Cursor.execute( Query ).fetchall()\n",
        "\n",
        "# Mostrando o retorno\n",
        "for Linha in Consulta:\n",
        "  print( Linha )"
      ],
      "metadata": {
        "colab": {
          "base_uri": "https://localhost:8080/"
        },
        "id": "rNLiuuUFZXSr",
        "outputId": "683bb52a-77f5-4681-9735-39f0af655700"
      },
      "execution_count": null,
      "outputs": [
        {
          "output_type": "stream",
          "name": "stdout",
          "text": [
            "(1.0, 'Fornecedor')\n",
            "(1.0, 'Fornecedor')\n",
            "(1.0, 'Fornecedor')\n",
            "(1.0, 'Produtor')\n",
            "(1.0, 'Produtor')\n",
            "(1.0, 'Produtor')\n"
          ]
        }
      ]
    },
    {
      "cell_type": "code",
      "source": [],
      "metadata": {
        "id": "T6B5Pn-nMa--"
      },
      "execution_count": null,
      "outputs": []
    },
    {
      "cell_type": "markdown",
      "source": [
        "# **19. - GROUP BY <p>**\n",
        "A GROUP BY instrução agrupa as linhas que têm os mesmos valores em linhas de resumo, como \"encontre o número de clientes em cada país\".\n",
        "\n",
        "A GROUP BY instrução é frequentemente usada com funções agregadas ( COUNT(), MAX(), MIN(), SUM(), AVG()) para agrupar o conjunto de resultados por uma ou mais colunas."
      ],
      "metadata": {
        "id": "7QhoBknLZ4cJ"
      }
    },
    {
      "cell_type": "code",
      "source": [
        "Query = '''\n",
        "SELECT * FROM Minha_Tabela \n",
        "'''\n",
        "\n",
        "# Fazendo consulta\n",
        "Consulta = Cursor.execute( Query ).fetchall()\n",
        "\n",
        "# Mostrando o retorno\n",
        "for Linha in Consulta:\n",
        "  print( Linha )"
      ],
      "metadata": {
        "id": "vl7j3P1OZiMM"
      },
      "execution_count": null,
      "outputs": []
    },
    {
      "cell_type": "code",
      "source": [
        "Query = '''\n",
        "SELECT SUM (Idade) FROM Minha_Tabela \n",
        "GROUP BY Nome\n",
        "'''\n",
        "\n",
        "# Fazendo consulta\n",
        "Consulta = Cursor.execute( Query ).fetchall()\n",
        "\n",
        "print( Consulta )"
      ],
      "metadata": {
        "colab": {
          "base_uri": "https://localhost:8080/"
        },
        "id": "7d89LBu5aI1u",
        "outputId": "9646deac-84ad-4987-a0d4-6e69b61efe8c"
      },
      "execution_count": null,
      "outputs": [
        {
          "output_type": "stream",
          "name": "stdout",
          "text": [
            "[]\n"
          ]
        }
      ]
    },
    {
      "cell_type": "markdown",
      "source": [
        "# **20. - COMMENTS <p>**\n",
        "Os comentários são usados ​​para explicar seções de instruções SQL ou para impedir a execução de instruções SQL."
      ],
      "metadata": {
        "id": "1gN9AWuAdm1o"
      }
    },
    {
      "cell_type": "code",
      "source": [
        "Query = '''\n",
        "-- Comentário no SQL\n",
        "-- Comentário no SQL\n",
        "-- Comentário no SQL\n",
        "-- Comentário no SQL\n",
        "SELECT * FROM Minha_Tabela \n",
        "'''\n",
        "\n",
        "# Fazendo consulta\n",
        "Consulta = Cursor.execute( Query ).fetchall()\n",
        "\n",
        "# Mostrando o retorno\n",
        "for Linha in Consulta:\n",
        "  print( Linha )"
      ],
      "metadata": {
        "id": "yTu_rZ7Oahpw"
      },
      "execution_count": null,
      "outputs": []
    },
    {
      "cell_type": "markdown",
      "source": [
        "# **21. - PRIMARY KEY <p>**\n",
        "A PRIMARY KEY restrição identifica exclusivamente cada registro em uma tabela.\n",
        "\n",
        "As chaves primárias devem conter valores UNIQUE e não podem conter valores NULL.\n",
        "\n",
        "Uma tabela pode ter apenas UMA chave primária; e na tabela, essa chave primária pode consistir em uma ou várias colunas (campos)."
      ],
      "metadata": {
        "id": "w0GqK1UQiLjJ"
      }
    },
    {
      "cell_type": "code",
      "source": [
        "Query = '''\n",
        "CREATE TABLE Clientes (\n",
        "    ID int NOT NULL,\n",
        "    Nome varchar(255) NOT NULL,\n",
        "    Sobrenome varchar(255),\n",
        "    Idade int,\n",
        "    PRIMARY KEY (ID)\n",
        ") \n",
        "'''\n",
        "\n",
        "# Fazendo consulta\n",
        "Consulta = Cursor.execute( Query )\n",
        "\n",
        "# Salvar as alterações no banco de dados\n",
        "Conexao.commit()"
      ],
      "metadata": {
        "id": "QfjjVqdNi4Sh"
      },
      "execution_count": null,
      "outputs": []
    },
    {
      "cell_type": "code",
      "source": [
        "# Inserindo valores\n",
        "Cursor.execute(\"INSERT INTO Clientes VALUES (1, 'Odemir', 'Depieri',  30)\")"
      ],
      "metadata": {
        "colab": {
          "base_uri": "https://localhost:8080/"
        },
        "id": "dPUdVal3jukm",
        "outputId": "da1d46ae-b7bb-46d1-a2fc-9e2b0ec02136"
      },
      "execution_count": null,
      "outputs": [
        {
          "output_type": "execute_result",
          "data": {
            "text/plain": [
              "<sqlite3.Cursor at 0x7f36874f1c70>"
            ]
          },
          "metadata": {},
          "execution_count": 54
        }
      ]
    },
    {
      "cell_type": "code",
      "source": [
        "# Fazendo consulta\n",
        "Cursor.execute( \"SELECT * FROM Clientes\").fetchall()"
      ],
      "metadata": {
        "colab": {
          "base_uri": "https://localhost:8080/"
        },
        "id": "kOWdhVNtj3Th",
        "outputId": "4914496c-109d-4385-9380-7cf9dc58f43d"
      },
      "execution_count": null,
      "outputs": [
        {
          "output_type": "execute_result",
          "data": {
            "text/plain": [
              "[(1, 'Odemir', 'Depieri', 30)]"
            ]
          },
          "metadata": {},
          "execution_count": 55
        }
      ]
    },
    {
      "cell_type": "code",
      "source": [
        "Cursor.execute(\"INSERT INTO Clientes VALUES (2, 'Ronisson', 'Lucas',  30)\")"
      ],
      "metadata": {
        "colab": {
          "base_uri": "https://localhost:8080/"
        },
        "id": "gPX8m5KSkCci",
        "outputId": "a2cb48be-0480-4376-e09e-6d7ba176911a"
      },
      "execution_count": null,
      "outputs": [
        {
          "output_type": "execute_result",
          "data": {
            "text/plain": [
              "<sqlite3.Cursor at 0x7f36874f1c70>"
            ]
          },
          "metadata": {},
          "execution_count": 56
        }
      ]
    },
    {
      "cell_type": "code",
      "source": [
        "# Fazendo consulta\n",
        "Cursor.execute( \"SELECT * FROM Clientes\").fetchall()"
      ],
      "metadata": {
        "colab": {
          "base_uri": "https://localhost:8080/"
        },
        "id": "zlCC6SdPkLvp",
        "outputId": "5947cdce-103a-470e-be79-bb6acb2eecf0"
      },
      "execution_count": null,
      "outputs": [
        {
          "output_type": "execute_result",
          "data": {
            "text/plain": [
              "[(1, 'Odemir', 'Depieri', 30), (2, 'Ronisson', 'Lucas', 30)]"
            ]
          },
          "metadata": {},
          "execution_count": 57
        }
      ]
    },
    {
      "cell_type": "markdown",
      "source": [
        "# **22. - FOREIGN KEY <p>**\n",
        "A FOREIGN KEY restrição é usada para evitar ações que destruam links entre tabelas.\n",
        "\n",
        "A FOREIGN KEY é um campo (ou coleção de campos) em uma tabela, que se refere a PRIMARY KEY em outra tabela.\n",
        "\n",
        "A tabela com a chave estrangeira é chamada de tabela filha e a tabela com a chave primária é chamada de tabela referenciada ou pai."
      ],
      "metadata": {
        "id": "V_-2FiCgkW3v"
      }
    },
    {
      "cell_type": "code",
      "source": [
        "Query = '''\n",
        "CREATE TABLE Servicos (\n",
        "    ID int NOT NULL,\n",
        "    Numero int NOT NULL,\n",
        "    IDCliente int,\n",
        "    PRIMARY KEY (ID),\n",
        "    FOREIGN KEY (IDCliente) REFERENCES Persons(IDCliente)\n",
        ")\n",
        "'''\n",
        "\n",
        "# Fazendo consulta\n",
        "Consulta = Cursor.execute( Query )\n",
        "\n",
        "# Salvar as alterações no banco de dados\n",
        "Conexao.commit()"
      ],
      "metadata": {
        "id": "z2jIraa5kdHf"
      },
      "execution_count": null,
      "outputs": []
    },
    {
      "cell_type": "code",
      "source": [
        "Cursor.execute(\"INSERT INTO Servicos VALUES (1, 1000, 1)\")"
      ],
      "metadata": {
        "colab": {
          "base_uri": "https://localhost:8080/"
        },
        "id": "cEfxnIfIlQvp",
        "outputId": "d470c719-2135-4709-d94d-96a045ccccae"
      },
      "execution_count": null,
      "outputs": [
        {
          "output_type": "execute_result",
          "data": {
            "text/plain": [
              "<sqlite3.Cursor at 0x7f36874f1c70>"
            ]
          },
          "metadata": {},
          "execution_count": 59
        }
      ]
    },
    {
      "cell_type": "code",
      "source": [
        "Cursor.execute( \"SELECT * FROM Servicos\").fetchall()"
      ],
      "metadata": {
        "colab": {
          "base_uri": "https://localhost:8080/"
        },
        "id": "qgWRV7jClYKE",
        "outputId": "25dd5055-4bf2-4ca7-9280-4365bf4db4a8"
      },
      "execution_count": null,
      "outputs": [
        {
          "output_type": "execute_result",
          "data": {
            "text/plain": [
              "[(1, 1000, 1)]"
            ]
          },
          "metadata": {},
          "execution_count": 60
        }
      ]
    },
    {
      "cell_type": "markdown",
      "source": [
        "# **23. - PROJETO PRÁTICO <p>**\n",
        "1. Gerar informações\n",
        "2. Criar uma tabela\n",
        "3. Ordenar os valores\n",
        "4. Salvar a tabela"
      ],
      "metadata": {
        "id": "La_Lk-p9mwkK"
      }
    },
    {
      "cell_type": "code",
      "source": [
        "# Loja de Sapatos\n",
        "\n",
        "# Gerando dados de vendas\n",
        "# ID Vendedor, Valor de Bruto, Desconto, Valor Líquido\n",
        "\n",
        "Query_01 = '''\n",
        "CREATE TABLE Vendas (\n",
        "    ID INT NOT NULL,\n",
        "    ID_Vendedor INT NOT NULL,\n",
        "    ValorVenda INT NOT NULL,\n",
        "    Desconto INT NOT NULL,\n",
        "    PRIMARY KEY (ID)\n",
        ") \n",
        "'''\n",
        "\n",
        "Query_02 = '''\n",
        "CREATE TABLE Vendedor (\n",
        "    ID_Vendedor INT NOT NULL,\n",
        "    Nome varchar(255) NOT NULL,\n",
        "    PRIMARY KEY (ID_Vendedor)\n",
        ")\n",
        "'''\n",
        "\n",
        "Consulta = Cursor.execute( Query_01 )\n",
        "Conexao.commit()\n",
        "\n",
        "Consulta = Cursor.execute( Query_02 )\n",
        "Conexao.commit()"
      ],
      "metadata": {
        "id": "Dt1xMuJelcxt"
      },
      "execution_count": null,
      "outputs": []
    },
    {
      "cell_type": "code",
      "source": [
        "Cursor.execute(\"INSERT INTO Vendedor VALUES (1, 'Odemir Depieri Jr')\")\n",
        "Cursor.execute(\"INSERT INTO Vendedor VALUES (2, 'Jose Almeida')\")\n",
        "Cursor.execute(\"INSERT INTO Vendedor VALUES (3, 'Maria Silva')\")\n",
        "Cursor.execute(\"INSERT INTO Vendedor VALUES (4, 'Julia Pereira')\")"
      ],
      "metadata": {
        "colab": {
          "base_uri": "https://localhost:8080/"
        },
        "id": "Ddc71SHJqypN",
        "outputId": "6c3bad98-990e-445b-85c6-c9bd64a7eaf0"
      },
      "execution_count": null,
      "outputs": [
        {
          "output_type": "execute_result",
          "data": {
            "text/plain": [
              "<sqlite3.Cursor at 0x7f36874f1c70>"
            ]
          },
          "metadata": {},
          "execution_count": 62
        }
      ]
    },
    {
      "cell_type": "code",
      "source": [
        "Query = '''\n",
        "SELECT * FROM Vendedor\n",
        "'''\n",
        "\n",
        "# Fazendo consulta\n",
        "Consulta = Cursor.execute( Query ).fetchall()\n",
        "\n",
        "# Mostrando o retorno\n",
        "print( Consulta )"
      ],
      "metadata": {
        "colab": {
          "base_uri": "https://localhost:8080/"
        },
        "id": "Onlj-v1FrOgb",
        "outputId": "f7299126-f423-4322-f18a-0f8d3b8d89e0"
      },
      "execution_count": null,
      "outputs": [
        {
          "output_type": "stream",
          "name": "stdout",
          "text": [
            "[(1, 'Odemir Depieri Jr'), (2, 'Jose Almeida'), (3, 'Maria Silva'), (4, 'Julia Pereira')]\n"
          ]
        }
      ]
    },
    {
      "cell_type": "code",
      "source": [
        "import random\n",
        "\n",
        "for Input in range(100):\n",
        "\n",
        "  Id = Input\n",
        "  Vendedor = random.randint(1, 4)\n",
        "  Valor_Venda = random.randint( 30, 599 )\n",
        "  Desconto = round( random.random() * 100, 2 )\n",
        "\n",
        "  #print( Id, Vendedor, Valor_Venda, Desconto )\n",
        "  Cursor.execute( f\"INSERT INTO Vendas VALUES ( {Id}, {Vendedor}, {Valor_Venda}, {Desconto} )\" )"
      ],
      "metadata": {
        "id": "-vwUT_EMrdAK"
      },
      "execution_count": null,
      "outputs": []
    },
    {
      "cell_type": "code",
      "source": [
        "Query = '''\n",
        "SELECT * FROM Vendas\n",
        "'''\n",
        "\n",
        "# Fazendo consulta\n",
        "Consulta = Cursor.execute( Query ).fetchall()\n",
        "\n",
        "# Mostrando o retorno\n",
        "for Linha in Consulta[0:5]:\n",
        "  print( Linha )"
      ],
      "metadata": {
        "colab": {
          "base_uri": "https://localhost:8080/"
        },
        "id": "0tXzRJZlr10v",
        "outputId": "991f9fb7-a3a0-4f1c-9bda-04b9d860f58d"
      },
      "execution_count": null,
      "outputs": [
        {
          "output_type": "stream",
          "name": "stdout",
          "text": [
            "(0, 3, 325, 19.4)\n",
            "(1, 3, 468, 75.4)\n",
            "(2, 2, 424, 83.89)\n",
            "(3, 2, 416, 59.32)\n",
            "(4, 2, 538, 21.05)\n"
          ]
        }
      ]
    },
    {
      "cell_type": "code",
      "source": [
        "Query = '''\n",
        "\n",
        "-- Seleção das Tabelas e Join\n",
        "SELECT Nome, SUM(Vendas.ValorVenda) as TopVendas, COUNT(Vendas.ValorVenda), AVG(Vendas.ValorVenda)\n",
        "FROM Vendas\n",
        "INNER JOIN Vendedor\n",
        "ON Vendedor.ID_Vendedor = Vendas.ID_Vendedor\n",
        "\n",
        "-- Filtro\n",
        "WHERE Nome = 'Odemir Depieri Jr' or Nome = 'Maria Silva'\n",
        "\n",
        "-- Agrupamento\n",
        "GROUP BY Nome\n",
        "ORDER BY TopVendas DESC\n",
        "'''\n",
        "\n",
        "# Fazendo consulta\n",
        "Consulta = Cursor.execute( Query ).fetchall()\n",
        "\n",
        "# Mostrando o retorno\n",
        "for Linha in Consulta:\n",
        "  print( Linha )"
      ],
      "metadata": {
        "id": "uvGIxUrDsArh",
        "colab": {
          "base_uri": "https://localhost:8080/"
        },
        "outputId": "0c8b0eac-2fea-4ba3-fae3-543953a70f3e"
      },
      "execution_count": null,
      "outputs": [
        {
          "output_type": "stream",
          "name": "stdout",
          "text": [
            "('Odemir Depieri Jr', 7206, 22, 327.54545454545456)\n",
            "('Maria Silva', 7012, 26, 269.6923076923077)\n"
          ]
        }
      ]
    },
    {
      "cell_type": "code",
      "source": [],
      "metadata": {
        "id": "_B38wAtnwvzi"
      },
      "execution_count": null,
      "outputs": []
    }
  ]
}